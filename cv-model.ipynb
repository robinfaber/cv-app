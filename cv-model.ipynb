{
 "cells": [
  {
   "cell_type": "markdown",
   "metadata": {},
   "source": [
    "<center><h1>What's my job?!</h1>\n",
    "    <h2>Predicting your job using Tensorflow</h2></center>"
   ]
  },
  {
   "cell_type": "code",
   "execution_count": 3,
   "metadata": {
    "scrolled": true
   },
   "outputs": [
    {
     "name": "stdout",
     "output_type": "stream",
     "text": [
      "2.1.0\n"
     ]
    },
    {
     "name": "stderr",
     "output_type": "stream",
     "text": [
      "[nltk_data] Downloading package stopwords to /home/robin/nltk_data...\n",
      "[nltk_data]   Package stopwords is already up-to-date!\n"
     ]
    }
   ],
   "source": [
    "import requests\n",
    "from bs4 import BeautifulSoup\n",
    "\n",
    "import re\n",
    "import os\n",
    "import time\n",
    "\n",
    "import pandas as pd\n",
    "import numpy as np\n",
    "\n",
    "import tensorflow as tf\n",
    "from tensorflow.keras.preprocessing.text import Tokenizer\n",
    "from tensorflow.keras.preprocessing.sequence import pad_sequences\n",
    "\n",
    "import matplotlib.pyplot as plt\n",
    "\n",
    "import nltk\n",
    "from nltk.corpus import stopwords\n",
    "nltk.download('stopwords')\n",
    "\n",
    "STOPWORDS = set(stopwords.words('english'))\n",
    "\n",
    "print(tf.__version__)"
   ]
  },
  {
   "cell_type": "markdown",
   "metadata": {},
   "source": [
    "<img src=\"https://miro.medium.com/max/600/0*a6XSwHsfvz_oWSSJ.jpg\">"
   ]
  },
  {
   "cell_type": "markdown",
   "metadata": {},
   "source": [
    "## Get the data"
   ]
  },
  {
   "cell_type": "markdown",
   "metadata": {},
   "source": [
    "Below is a function that scrapes text from Indeed."
   ]
  },
  {
   "cell_type": "code",
   "execution_count": 48,
   "metadata": {},
   "outputs": [],
   "source": [
    "def scraper(job_titles):\n",
    "\n",
    "    job_openings = [] # list with job opening text\n",
    "    labels = [] # list with job opening labels\n",
    "    urls = [] # list with all the job urls\n",
    "\n",
    "    main = \"https://www.indeed.com\" # main indeed url\n",
    "\n",
    "    for item in job_titles:\n",
    "\n",
    "        job = '\"' + item.replace(\" \", \"+\") + '\"' # replace space in job title with dash\n",
    "\n",
    "        print(job)\n",
    "\n",
    "        for number in range(0, 15000, 10): # will scrape 15.000 job openings per job, in increments of 10\n",
    "\n",
    "            print(f\"starting first {number} of {item}\")\n",
    "\n",
    "            url = f\"{main}/jobs?q={job}&start={number}\" # compile job specific url\n",
    "\n",
    "            print(url)\n",
    "            \n",
    "            try: # in case we get an error when requesting te page.\n",
    "                page = requests.get(url) # request url\n",
    "            except:\n",
    "                break\n",
    "                print(\"An error occured\")\n",
    "            \n",
    "            time.sleep(2)\n",
    "\n",
    "            soup = BeautifulSoup(page.content, \"html.parser\") # parse the page with beautifulsoup\n",
    "\n",
    "            links = [a['href'] for a in soup.find_all('a', href=True)] # find all the urls on the page\n",
    "\n",
    "            match_links = [main+s for s in links if \"rc/clk?jk=\" in s] # find all the urls that link to job page\n",
    "            \n",
    "            print(len(match_links))\n",
    "\n",
    "            for link in match_links: # loop through the 10 job ad urls on the page\n",
    "                \n",
    "                print(link)\n",
    "                \n",
    "                try: # in case we get an error requesting the page\n",
    "                    job_page = requests.get(link) # request the job ad url\n",
    "                except:\n",
    "                    break\n",
    "                    print(\"An error occured\")\n",
    "                    \n",
    "                time.sleep(3) # wait a few seconds to not overlad server\n",
    "                job_soup = BeautifulSoup(job_page.content, \"html.parser\") # parse the page\n",
    "\n",
    "                for element in job_soup.find_all('div', attrs={\"class\":\"jobsearch-jobDescriptionText\"}): # loop through the job text\n",
    "                    text = element.get_text(separator = \" \").replace(\"\\n\",\"\") # remove all tags from job text\n",
    "                    \n",
    "                    job_openings.append(text) # append job text tot job_openings\n",
    "                    labels.append(item) # append job title\n",
    "                    urls.append(link) # append link\n",
    "            \n",
    "            \n",
    "\n",
    "            if len(match_links) < 2: # breaks the loop if we are at the end of the # of jobs\n",
    "                break                    \n",
    "    \n",
    "    return job_openings, labels, urls"
   ]
  },
  {
   "cell_type": "markdown",
   "metadata": {},
   "source": [
    "The scraper can take a list with any number of job titles and will take the first 2.000 job openings."
   ]
  },
  {
   "cell_type": "code",
   "execution_count": null,
   "metadata": {
    "scrolled": true
   },
   "outputs": [],
   "source": [
    "job_openings = [\"data analyst\",\n",
    "                \"sales manager\",\n",
    "                \"marketing manager\",\n",
    "                \"event manager\"] # list of jobs I want to scrape\n",
    "\n",
    "jobs, labels, links = scraper(job_openings)"
   ]
  },
  {
   "cell_type": "markdown",
   "metadata": {},
   "source": [
    "Save the 3 lists as 1 Pandas dataframe, and save a copy of the dataframe as csv."
   ]
  },
  {
   "cell_type": "code",
   "execution_count": null,
   "metadata": {},
   "outputs": [],
   "source": [
    "jobs_df = pd.DataFrame(\n",
    "                        {'job_text': jobs,\n",
    "                         'labels': labels,\n",
    "                         'url': links\n",
    "                        }) # create new dataframe with 3 columns\n",
    "\n",
    "jobs_df.to_csv('data/jobs-data2.csv', index=False) # save dataframe to csv"
   ]
  },
  {
   "cell_type": "markdown",
   "metadata": {},
   "source": [
    "## Preparing the data\n",
    "\n",
    "First, load the csv and randomize the data. I randomize because at a later stage we will need a mixed train/test split. I will also look for duplicate job texts. For example, a job might be in the search results for business analyst and data analyst."
   ]
  },
  {
   "cell_type": "code",
   "execution_count": 165,
   "metadata": {},
   "outputs": [],
   "source": [
    "df = pd.read_csv(\"data/jobs-data2.csv\") # load the csv from file\n",
    "df = df.sample(frac=1).reset_index(drop=True) # randomize the data\n",
    "\n",
    "df_clean = df.drop_duplicates(subset=\"url\", keep=\"first\") # drop duplicate job_text, but keep the first"
   ]
  },
  {
   "cell_type": "code",
   "execution_count": 191,
   "metadata": {},
   "outputs": [
    {
     "data": {
      "text/html": [
       "<div>\n",
       "<style scoped>\n",
       "    .dataframe tbody tr th:only-of-type {\n",
       "        vertical-align: middle;\n",
       "    }\n",
       "\n",
       "    .dataframe tbody tr th {\n",
       "        vertical-align: top;\n",
       "    }\n",
       "\n",
       "    .dataframe thead th {\n",
       "        text-align: right;\n",
       "    }\n",
       "</style>\n",
       "<table border=\"1\" class=\"dataframe\">\n",
       "  <thead>\n",
       "    <tr style=\"text-align: right;\">\n",
       "      <th></th>\n",
       "      <th>job_text</th>\n",
       "      <th>labels</th>\n",
       "      <th>url</th>\n",
       "    </tr>\n",
       "  </thead>\n",
       "  <tbody>\n",
       "    <tr>\n",
       "      <th>0</th>\n",
       "      <td>A completed Bachelor's Degree from an accredit...</td>\n",
       "      <td>event manager</td>\n",
       "      <td>https://www.indeed.com/rc/clk?jk=81c7b3348cae5...</td>\n",
       "    </tr>\n",
       "    <tr>\n",
       "      <th>1</th>\n",
       "      <td>Live! at the Battery Atlanta opened along with...</td>\n",
       "      <td>sales manager</td>\n",
       "      <td>https://www.indeed.com/rc/clk?jk=c595a86304cd4...</td>\n",
       "    </tr>\n",
       "    <tr>\n",
       "      <th>2</th>\n",
       "      <td>At Great Wolf, the  Manager of Kids Experience...</td>\n",
       "      <td>event manager</td>\n",
       "      <td>https://www.indeed.com/rc/clk?jk=5f1b812c1bcca...</td>\n",
       "    </tr>\n",
       "    <tr>\n",
       "      <th>3</th>\n",
       "      <td>EBSCO Information Services (EIS) provides a co...</td>\n",
       "      <td>event manager</td>\n",
       "      <td>https://www.indeed.com/rc/clk?jk=f22dcdd8be509...</td>\n",
       "    </tr>\n",
       "    <tr>\n",
       "      <th>4</th>\n",
       "      <td>Senior Marketing Manager - Ventilated Consumab...</td>\n",
       "      <td>marketing manager</td>\n",
       "      <td>https://www.indeed.com/rc/clk?jk=5185b28591b22...</td>\n",
       "    </tr>\n",
       "  </tbody>\n",
       "</table>\n",
       "</div>"
      ],
      "text/plain": [
       "                                            job_text             labels  \\\n",
       "0  A completed Bachelor's Degree from an accredit...      event manager   \n",
       "1  Live! at the Battery Atlanta opened along with...      sales manager   \n",
       "2  At Great Wolf, the  Manager of Kids Experience...      event manager   \n",
       "3  EBSCO Information Services (EIS) provides a co...      event manager   \n",
       "4  Senior Marketing Manager - Ventilated Consumab...  marketing manager   \n",
       "\n",
       "                                                 url  \n",
       "0  https://www.indeed.com/rc/clk?jk=81c7b3348cae5...  \n",
       "1  https://www.indeed.com/rc/clk?jk=c595a86304cd4...  \n",
       "2  https://www.indeed.com/rc/clk?jk=5f1b812c1bcca...  \n",
       "3  https://www.indeed.com/rc/clk?jk=f22dcdd8be509...  \n",
       "4  https://www.indeed.com/rc/clk?jk=5185b28591b22...  "
      ]
     },
     "execution_count": 191,
     "metadata": {},
     "output_type": "execute_result"
    }
   ],
   "source": [
    "df_clean.head()"
   ]
  },
  {
   "cell_type": "code",
   "execution_count": 166,
   "metadata": {
    "scrolled": true
   },
   "outputs": [
    {
     "name": "stdout",
     "output_type": "stream",
     "text": [
      "(19057, 3)\n",
      "(3002, 3)\n"
     ]
    }
   ],
   "source": [
    "print(df.shape) # shape with duplicates\n",
    "print(df_clean.shape) # shape without duplicates"
   ]
  },
  {
   "cell_type": "markdown",
   "metadata": {},
   "source": [
    "I'm seeing that a massive amount of data has been lost due to duplicates. After closer examination I've found that I scraped the same job text from the same url multiple times (sometimes even more than 20 times). It looks like many pages have the exact same set of jobs. I could improve the scraper by only adding jobs that are not already scraped."
   ]
  },
  {
   "cell_type": "code",
   "execution_count": 167,
   "metadata": {
    "scrolled": true
   },
   "outputs": [
    {
     "data": {
      "text/html": [
       "<div>\n",
       "<style scoped>\n",
       "    .dataframe tbody tr th:only-of-type {\n",
       "        vertical-align: middle;\n",
       "    }\n",
       "\n",
       "    .dataframe tbody tr th {\n",
       "        vertical-align: top;\n",
       "    }\n",
       "\n",
       "    .dataframe thead th {\n",
       "        text-align: right;\n",
       "    }\n",
       "</style>\n",
       "<table border=\"1\" class=\"dataframe\">\n",
       "  <thead>\n",
       "    <tr style=\"text-align: right;\">\n",
       "      <th></th>\n",
       "      <th>job_text</th>\n",
       "      <th>url</th>\n",
       "    </tr>\n",
       "    <tr>\n",
       "      <th>labels</th>\n",
       "      <th></th>\n",
       "      <th></th>\n",
       "    </tr>\n",
       "  </thead>\n",
       "  <tbody>\n",
       "    <tr>\n",
       "      <th>data analyst</th>\n",
       "      <td>185</td>\n",
       "      <td>185</td>\n",
       "    </tr>\n",
       "    <tr>\n",
       "      <th>event manager</th>\n",
       "      <td>1004</td>\n",
       "      <td>1004</td>\n",
       "    </tr>\n",
       "    <tr>\n",
       "      <th>marketing manager</th>\n",
       "      <td>872</td>\n",
       "      <td>872</td>\n",
       "    </tr>\n",
       "    <tr>\n",
       "      <th>sales manager</th>\n",
       "      <td>941</td>\n",
       "      <td>941</td>\n",
       "    </tr>\n",
       "  </tbody>\n",
       "</table>\n",
       "</div>"
      ],
      "text/plain": [
       "                   job_text   url\n",
       "labels                           \n",
       "data analyst            185   185\n",
       "event manager          1004  1004\n",
       "marketing manager       872   872\n",
       "sales manager           941   941"
      ]
     },
     "execution_count": 167,
     "metadata": {},
     "output_type": "execute_result"
    }
   ],
   "source": [
    "df_clean.groupby('labels').count() # count per category"
   ]
  },
  {
   "cell_type": "markdown",
   "metadata": {},
   "source": [
    "I'll upsample all the classes to match the event manager class."
   ]
  },
  {
   "cell_type": "code",
   "execution_count": 168,
   "metadata": {},
   "outputs": [
    {
     "name": "stdout",
     "output_type": "stream",
     "text": [
      "1004\n"
     ]
    }
   ],
   "source": [
    "from sklearn.utils import resample\n",
    "\n",
    "samples = len(df_clean.loc[df_clean['labels'] == 'event manager']) - len(df_clean.loc[df_clean['labels'] == 'data_analyst'])\n",
    "print(samples)\n",
    "\n",
    "upsample_data_analyst = resample(df_clean.loc[df_clean['labels'] == 'data analyst'],\n",
    "                          replace=True,\n",
    "                          n_samples=len(df_clean.loc[df_clean['labels'] == 'event manager']),\n",
    "                          random_state=42)\n",
    "\n",
    "df_upsample = pd.concat([df_clean, upsample_data_analyst], ignore_index=True)"
   ]
  },
  {
   "cell_type": "markdown",
   "metadata": {},
   "source": [
    "Someone pointed out to me that, next time, I should only upsample the training set. Anyway, below are the new counts."
   ]
  },
  {
   "cell_type": "code",
   "execution_count": 169,
   "metadata": {},
   "outputs": [
    {
     "data": {
      "text/html": [
       "<div>\n",
       "<style scoped>\n",
       "    .dataframe tbody tr th:only-of-type {\n",
       "        vertical-align: middle;\n",
       "    }\n",
       "\n",
       "    .dataframe tbody tr th {\n",
       "        vertical-align: top;\n",
       "    }\n",
       "\n",
       "    .dataframe thead th {\n",
       "        text-align: right;\n",
       "    }\n",
       "</style>\n",
       "<table border=\"1\" class=\"dataframe\">\n",
       "  <thead>\n",
       "    <tr style=\"text-align: right;\">\n",
       "      <th></th>\n",
       "      <th>job_text</th>\n",
       "      <th>url</th>\n",
       "    </tr>\n",
       "    <tr>\n",
       "      <th>labels</th>\n",
       "      <th></th>\n",
       "      <th></th>\n",
       "    </tr>\n",
       "  </thead>\n",
       "  <tbody>\n",
       "    <tr>\n",
       "      <th>data analyst</th>\n",
       "      <td>1189</td>\n",
       "      <td>1189</td>\n",
       "    </tr>\n",
       "    <tr>\n",
       "      <th>event manager</th>\n",
       "      <td>1004</td>\n",
       "      <td>1004</td>\n",
       "    </tr>\n",
       "    <tr>\n",
       "      <th>marketing manager</th>\n",
       "      <td>872</td>\n",
       "      <td>872</td>\n",
       "    </tr>\n",
       "    <tr>\n",
       "      <th>sales manager</th>\n",
       "      <td>941</td>\n",
       "      <td>941</td>\n",
       "    </tr>\n",
       "  </tbody>\n",
       "</table>\n",
       "</div>"
      ],
      "text/plain": [
       "                   job_text   url\n",
       "labels                           \n",
       "data analyst           1189  1189\n",
       "event manager          1004  1004\n",
       "marketing manager       872   872\n",
       "sales manager           941   941"
      ]
     },
     "execution_count": 169,
     "metadata": {},
     "output_type": "execute_result"
    }
   ],
   "source": [
    "df_upsample.groupby('labels').count() # count per category"
   ]
  },
  {
   "cell_type": "markdown",
   "metadata": {},
   "source": [
    "Let's see what happens if we continue with this dataset.\n",
    "\n",
    "My next step will be to make the label column numeric."
   ]
  },
  {
   "cell_type": "code",
   "execution_count": 170,
   "metadata": {
    "scrolled": true
   },
   "outputs": [],
   "source": [
    "conditions = [(df_upsample['labels'] == 'data analyst'),\n",
    "    (df_upsample['labels'] == 'event manager'),\n",
    "    (df_upsample['labels'] == 'marketing manager'),\n",
    "    (df_upsample['labels'] == 'sales manager')] # make a list with all the conditions\n",
    "\n",
    "choices = [0, 1, 2, 3] # make a list with all the numeric values\n",
    "\n",
    "df_upsample['labels_num'] = np.select(conditions, choices) # make label column numeric\n",
    "\n",
    "df_upsample = df_upsample.sample(frac=1).reset_index(drop=True) # randomize the data"
   ]
  },
  {
   "cell_type": "markdown",
   "metadata": {},
   "source": [
    "I don't want the cv classifier to base it's prediction one someone having a certain job title in their cv. I want to train the model based on other skills necessary. Therefore, I'm stripping the job titles from the job text."
   ]
  },
  {
   "cell_type": "code",
   "execution_count": 172,
   "metadata": {
    "scrolled": true
   },
   "outputs": [],
   "source": [
    "job_openings = [\"data analyst\",\n",
    "                \"event manager\",\n",
    "                \"marketing manager\",\n",
    "                \"sales manager\"] # list of jobs I want to scrape\n",
    "\n",
    "for item in job_openings: # for every job, replace the substring with nothing.\n",
    "    df_upsample['job_text'] = df_upsample['job_text'].str.replace(item, '', case=False)\n",
    "    \n",
    "jobs = df_upsample['job_text'].to_numpy() # convert to numpy array\n",
    "labels = df_upsample['labels_num'].to_numpy() # convert to numpy array"
   ]
  },
  {
   "cell_type": "markdown",
   "metadata": {},
   "source": [
    "Then, remove the stopwords"
   ]
  },
  {
   "cell_type": "code",
   "execution_count": 173,
   "metadata": {},
   "outputs": [],
   "source": [
    "jobs_clean = []\n",
    "\n",
    "for i in jobs:\n",
    "    job = i\n",
    "    for word in STOPWORDS: # STOPWORDS is set in the beginning\n",
    "        token = ' ' + word + ' '\n",
    "        job = job.replace(token, ' ')\n",
    "        job = job.replace(' ', ' ')\n",
    "    jobs_clean.append(job)"
   ]
  },
  {
   "cell_type": "markdown",
   "metadata": {},
   "source": [
    "Then, set our paramaters"
   ]
  },
  {
   "cell_type": "code",
   "execution_count": 174,
   "metadata": {},
   "outputs": [],
   "source": [
    "vocab_size = 1000 # the vocabulary will include de 1000 most common words\n",
    "embedding_dim = 128 # vector dimension of embedding layer\n",
    "max_length = 600 # the max length of each job text\n",
    "trunc_type = 'post' # truncate the end of text\n",
    "padding_type = 'post' # pad the end of text\n",
    "oov_tok = '<OOV>' # not in word index\n",
    "training_portion = .8 # portion of training set"
   ]
  },
  {
   "cell_type": "markdown",
   "metadata": {},
   "source": [
    "One-hot-encode label column"
   ]
  },
  {
   "cell_type": "code",
   "execution_count": 175,
   "metadata": {},
   "outputs": [],
   "source": [
    "labels = tf.keras.utils.to_categorical(labels, num_classes=4)"
   ]
  },
  {
   "cell_type": "markdown",
   "metadata": {},
   "source": [
    "Convert them to a train and test set"
   ]
  },
  {
   "cell_type": "code",
   "execution_count": 176,
   "metadata": {},
   "outputs": [
    {
     "name": "stdout",
     "output_type": "stream",
     "text": [
      "3204\n",
      "3204\n",
      "3204\n",
      "802\n",
      "802\n"
     ]
    }
   ],
   "source": [
    "train_size = int(len(jobs_clean) * training_portion)\n",
    "\n",
    "train_jobs = jobs_clean[0: train_size]\n",
    "train_labels = labels[0: train_size]\n",
    "\n",
    "validation_jobs = jobs_clean[train_size:]\n",
    "validation_labels = labels[train_size:]\n",
    "\n",
    "print(train_size)\n",
    "print(len(train_jobs))\n",
    "print(len(train_labels))\n",
    "print(len(validation_jobs))\n",
    "print(len(validation_labels))"
   ]
  },
  {
   "cell_type": "markdown",
   "metadata": {},
   "source": [
    "Tokenizer\n",
    "\n",
    "OOV is the most common, followed by experience, etc."
   ]
  },
  {
   "cell_type": "code",
   "execution_count": 177,
   "metadata": {
    "scrolled": true
   },
   "outputs": [
    {
     "data": {
      "text/plain": [
       "{'<OOV>': 1,\n",
       " 'experience': 2,\n",
       " 'data': 3,\n",
       " 'work': 4,\n",
       " 'sales': 5,\n",
       " 'business': 6,\n",
       " 'marketing': 7,\n",
       " 'team': 8,\n",
       " 'skills': 9,\n",
       " 'ability': 10}"
      ]
     },
     "execution_count": 177,
     "metadata": {},
     "output_type": "execute_result"
    }
   ],
   "source": [
    "tokenizer = Tokenizer(num_words = vocab_size, oov_token=oov_tok)\n",
    "tokenizer.fit_on_texts(train_jobs)\n",
    "word_index = tokenizer.word_index\n",
    "dict(list(word_index.items())[0:10])"
   ]
  },
  {
   "cell_type": "markdown",
   "metadata": {},
   "source": [
    "Turn into list of sequence"
   ]
  },
  {
   "cell_type": "code",
   "execution_count": 178,
   "metadata": {
    "scrolled": false
   },
   "outputs": [
    {
     "name": "stdout",
     "output_type": "stream",
     "text": [
      "[13, 184, 293, 793, 276, 321, 23, 567, 349, 675, 352, 26, 1, 1, 80, 10, 95, 5, 80, 556, 126, 1, 22, 429, 1, 352, 26, 624, 1, 1, 1, 285, 1, 204, 352, 26, 1, 1, 1, 1, 5, 1, 879, 31, 204, 1, 1, 590, 780, 1, 5, 879, 31, 793, 276, 321, 8, 1, 1, 1, 25, 234, 19, 445, 648, 299, 364, 71, 1, 1, 1, 149, 625, 670, 1, 1, 1, 1, 1, 117, 219, 538, 229, 335, 283, 920, 1, 149, 214, 1, 1, 1, 1, 1, 286, 1, 1, 310]\n"
     ]
    }
   ],
   "source": [
    "train_sequences = tokenizer.texts_to_sequences(train_jobs)\n",
    "print(train_sequences[10]) # 11th job opening"
   ]
  },
  {
   "cell_type": "markdown",
   "metadata": {},
   "source": [
    "Pad sequences so they are all the same size. train_padded is length 600"
   ]
  },
  {
   "cell_type": "code",
   "execution_count": 179,
   "metadata": {},
   "outputs": [
    {
     "name": "stdout",
     "output_type": "stream",
     "text": [
      "441\n",
      "600\n",
      "363\n",
      "600\n",
      "98\n",
      "600\n"
     ]
    }
   ],
   "source": [
    "train_padded = pad_sequences(train_sequences, maxlen=max_length, padding=padding_type, truncating=trunc_type)\n",
    "print(len(train_sequences[0])) # old\n",
    "print(len(train_padded[0])) # new\n",
    "\n",
    "print(len(train_sequences[1]))\n",
    "print(len(train_padded[1]))\n",
    "\n",
    "print(len(train_sequences[10]))\n",
    "print(len(train_padded[10]))"
   ]
  },
  {
   "cell_type": "markdown",
   "metadata": {},
   "source": [
    "Do the same for validation sequences"
   ]
  },
  {
   "cell_type": "code",
   "execution_count": 180,
   "metadata": {},
   "outputs": [
    {
     "name": "stdout",
     "output_type": "stream",
     "text": [
      "802\n",
      "(802, 600)\n"
     ]
    }
   ],
   "source": [
    "validation_sequences = tokenizer.texts_to_sequences(validation_jobs)\n",
    "validation_padded = pad_sequences(validation_sequences, maxlen=max_length, padding=padding_type, truncating=trunc_type)\n",
    "\n",
    "print(len(validation_sequences))\n",
    "print(validation_padded.shape)"
   ]
  },
  {
   "cell_type": "markdown",
   "metadata": {},
   "source": [
    "Compare original job text and job text after padding and tokenization"
   ]
  },
  {
   "cell_type": "code",
   "execution_count": 181,
   "metadata": {},
   "outputs": [
    {
     "name": "stdout",
     "output_type": "stream",
     "text": [
      "job description you we looking high energy software sales director help team identify bring <OOV> <OOV> <OOV> product service opportunities your team expected generate <OOV> new business well maintaining growing relationships existing accounts you team responsible overall health sales performance territory <OOV> accounts us <OOV> build <OOV> we come join <OOV> new <OOV> <OOV> applications platform business unit <OOV> made products services <OOV> portfolio help customers build <OOV> manage important applications we build applications <OOV> <OOV> cloud <OOV> environment <OOV> open <OOV> <OOV> <OOV> manage <OOV> <OOV> <OOV> <OOV> help achieve business outcomes your day <OOV> c level clients leading <OOV> coaching high performance sales team <OOV> <OOV> <OOV> sales leadership driving digital <OOV> strategy market leading enterprise customers required skills experiences ability influence others achieve results ability lead <OOV> direct group diverse <OOV> individuals ability prioritize projects and or deliverables ability drive accurate timely decisions strategic planning abilities ability work effectively senior management ability <OOV> <OOV> environment maintain operational <OOV> business <OOV> <OOV> skills <OOV> coaching skills <OOV> experience selling enterprise software product and or technology consulting focus it experience using <OOV> sales approach able <OOV> execute close business opportunity minimum guidance proven ability sell business line sell business value <OOV> product key strong verbal written communication presentation skills desired skills experiences advanced knowledge around <OOV> <OOV> <OOV> <OOV> c level <OOV> level relationships key customer <OOV> enterprise market previous experience working start up environment experience selling enterprise applications <OOV> <OOV> <OOV> cloud applications experience would <OOV> <OOV> this job opportunity <OOV> employment based <OOV> <OOV> <OOV> equal employment opportunity statement <OOV> equal opportunity employer committed providing employees work environment free discrimination <OOV> all employment decisions based business needs job requirements individual qualifications without regard race color religion <OOV> national social <OOV> origin age physical mental <OOV> disability sexual orientation gender identity and or expression marital <OOV> <OOV> <OOV> partnership status <OOV> present military service <OOV> status family medical history genetic information family <OOV> status including <OOV> status protected laws regulations locations <OOV> <OOV> <OOV> discrimination <OOV> based <OOV> category sales <OOV> field sales experience business leadership full time part time full time <OOV> date 2020 <OOV> <OOV> <OOV> company overview at <OOV> believe software power <OOV> new opportunities people <OOV> we <OOV> <OOV> <OOV> <OOV> <OOV> new ways make technologies work together <OOV> our cloud <OOV> security software form flexible consistent digital <OOV> <OOV> delivering <OOV> services experiences <OOV> business innovation around <OOV> at core people <OOV> value execution passion integrity customers community <OOV> <OOV> possible <OOV> <OOV> <OOV> <OOV> com equal employment opportunity statement <OOV> equal opportunity employer <OOV> discrimination <OOV> <OOV> <OOV> <OOV> committed <OOV> equal employment opportunity employees providing employees work environment free discrimination <OOV> all employment decisions <OOV> based business needs job requirements individual qualifications without regard race color religion <OOV> national social <OOV> origin sex including <OOV> age physical mental <OOV> disability <OOV> status sexual orientation gender identity and or expression marital <OOV> <OOV> <OOV> partnership status <OOV> present military service family medical history genetic information family <OOV> status status protected laws regulations locations <OOV> <OOV> <OOV> discrimination <OOV> based <OOV> <OOV> <OOV> applicants <OOV> <OOV> provide reasonable accommodation employees protected disabilities consistent local law ? ? ? ? ? ? ? ? ? ? ? ? ? ? ? ? ? ? ? ? ? ? ? ? ? ? ? ? ? ? ? ? ? ? ? ? ? ? ? ? ? ? ? ? ? ? ? ? ? ? ? ? ? ? ? ? ? ? ? ? ? ? ? ? ? ? ? ?\n",
      "---\n",
      "Job Description You We looking high-energy, software Sales Director help team identify bring closure VMware Tanzu product service opportunities. Your team expected generate net new business well maintaining growing relationships existing accounts. You team responsible overall health sales performance territory defined accounts. Us Ready build? So we. Come join VMware’s new exciting Modern Applications Platform Business Unit (MAPBU), made products services Tanzu portfolio help customers build, run manage important applications. We build applications velocity run cloud-native environment, run open-source Kubernetes consistency, manage customers’ entire footprint confidence help achieve business outcomes. Your Day Interacting C-level clients; leading, mentoring coaching high-performance sales team; partnering aligned VMware sales leadership, driving digital transformation strategy market leading enterprise customers. Required Skills / Experiences Ability influence others achieve results. Ability lead, motivate direct group diverse talented individuals. Ability prioritize projects and/or deliverables. Ability drive accurate timely decisions. Strategic planning abilities. Ability work effectively senior management. Ability operate matrix environment. Maintain operational command business. Conflict resolution skills. Mentoring/Coaching skills. Considerable experience selling enterprise software product and/or technology consulting focus IT Experience using consultative sales approach Able qualify, execute close business opportunity minimum guidance Proven ability sell business line sell business value vs. product KEY Strong verbal written communication presentation skills Desired Skills / Experiences Advanced knowledge around DevOps, PaaS, Agile, Containers C-Level VP level relationships key customer contacts (enterprise market) Previous experience working Start-Up environment Experience selling Enterprise applications Java EE environments, Cloud applications experience would asset TeamTanzu This job opportunity eligible employment-based immigration sponsorship VMware. Equal Employment Opportunity Statement VMware Equal Opportunity Employer committed providing employees work environment free discrimination harassment. All employment decisions based business needs, job requirements individual qualifications, without regard race, color, religion belief, national, social ethnic origin, age, physical, mental sensory disability, sexual orientation, gender identity and/or expression, marital, civil union domestic partnership status, past present military service, HIV status, family medical history genetic information, family parental status including pregnancy, status protected laws regulations locations operate. VMware tolerate discrimination harassment based characteristics.  Category :  Sales  Subcategory:  Field Sales  Experience:  Business Leadership  Full Time/ Part Time:  Full Time  Posted Date:  2020-06-19 VMware Company Overview: At VMware, believe software power unlock new opportunities people planet. We look beyond barriers compromise engineer new ways make technologies work together seamlessly. Our cloud, mobility, security software form flexible, consistent digital foundation securely delivering apps, services experiences transforming business innovation around globe. At core people deeply value execution, passion, integrity, customers, community. Shape what’s possible today http://careers.vmware.com.  Equal Employment Opportunity Statement: VMware Equal Opportunity Employer Prohibits Discrimination Harassment Any Kind: VMware committed principle equal employment opportunity employees providing employees work environment free discrimination harassment. All employment decisions VMware based business needs, job requirements individual qualifications, without regard race, color, religion belief, national, social ethnic origin, sex (including pregnancy), age, physical, mental sensory disability, HIV Status, sexual orientation, gender identity and/or expression, marital, civil union domestic partnership status, past present military service, family medical history genetic information, family parental status, status protected laws regulations locations operate. VMware tolerate discrimination harassment based characteristics. VMware encourages applicants ages. Vmware provide reasonable accommodation employees protected disabilities consistent local law.\n"
     ]
    }
   ],
   "source": [
    "reverse_word_index = dict([(value, key) for (key, value) in word_index.items()])\n",
    "\n",
    "def decode_job(text):\n",
    "    return ' '.join([reverse_word_index.get(i, '?') for i in text])\n",
    "print(decode_job(train_padded[12]))\n",
    "print('---')\n",
    "print(train_jobs[12])"
   ]
  },
  {
   "cell_type": "markdown",
   "metadata": {},
   "source": [
    "## Building the model"
   ]
  },
  {
   "cell_type": "markdown",
   "metadata": {},
   "source": [
    "<img src=\"https://tweakers.net/i/1UCdBTvgCLy3op9dVLMxsboAckU=/656x/filters:fill(white)/i/2001747173.png?f=imagenormal\">"
   ]
  },
  {
   "cell_type": "markdown",
   "metadata": {},
   "source": [
    "I will use a LSTM neural net to train my classifier. Because I have a very small dataset, I have added a dropout layer."
   ]
  },
  {
   "cell_type": "code",
   "execution_count": 182,
   "metadata": {
    "scrolled": true
   },
   "outputs": [
    {
     "name": "stdout",
     "output_type": "stream",
     "text": [
      "Model: \"sequential_7\"\n",
      "_________________________________________________________________\n",
      "Layer (type)                 Output Shape              Param #   \n",
      "=================================================================\n",
      "embedding_8 (Embedding)      (None, None, 128)         128000    \n",
      "_________________________________________________________________\n",
      "spatial_dropout1d_6 (Spatial (None, None, 128)         0         \n",
      "_________________________________________________________________\n",
      "bidirectional_6 (Bidirection (None, 256)               263168    \n",
      "_________________________________________________________________\n",
      "dense_14 (Dense)             (None, 128)               32896     \n",
      "_________________________________________________________________\n",
      "dense_15 (Dense)             (None, 4)                 516       \n",
      "=================================================================\n",
      "Total params: 424,580\n",
      "Trainable params: 424,580\n",
      "Non-trainable params: 0\n",
      "_________________________________________________________________\n"
     ]
    }
   ],
   "source": [
    "model = tf.keras.Sequential([\n",
    "    \n",
    "    tf.keras.layers.Embedding(vocab_size, embedding_dim),\n",
    "    tf.keras.layers.SpatialDropout1D(0.2),\n",
    "    tf.keras.layers.Bidirectional(tf.keras.layers.LSTM(embedding_dim, dropout=0.2, recurrent_dropout=0.2)),\n",
    "    tf.keras.layers.Dense(embedding_dim, activation='relu'),\n",
    "    tf.keras.layers.Dense(4, activation='softmax')\n",
    "    \n",
    "])\n",
    "model.summary()"
   ]
  },
  {
   "cell_type": "markdown",
   "metadata": {},
   "source": [
    "Below, I'be brought down the learning rate to improve the classifier."
   ]
  },
  {
   "cell_type": "code",
   "execution_count": 187,
   "metadata": {
    "scrolled": true
   },
   "outputs": [
    {
     "name": "stdout",
     "output_type": "stream",
     "text": [
      "Train on 3204 samples, validate on 802 samples\n",
      "Epoch 1/20\n",
      "3204/3204 - 409s - loss: 0.1901 - accuracy: 0.9373 - val_loss: 0.7979 - val_accuracy: 0.7905\n",
      "Epoch 2/20\n",
      "3204/3204 - 406s - loss: 0.1729 - accuracy: 0.9429 - val_loss: 0.9211 - val_accuracy: 0.7681\n",
      "Epoch 3/20\n",
      "3204/3204 - 402s - loss: 0.1490 - accuracy: 0.9498 - val_loss: 0.8861 - val_accuracy: 0.7968\n",
      "Epoch 4/20\n",
      "3204/3204 - 401s - loss: 0.1472 - accuracy: 0.9498 - val_loss: 0.8396 - val_accuracy: 0.7943\n",
      "Epoch 5/20\n",
      "3204/3204 - 409s - loss: 0.1465 - accuracy: 0.9466 - val_loss: 0.8729 - val_accuracy: 0.8005\n",
      "Epoch 6/20\n",
      "3204/3204 - 405s - loss: 0.1514 - accuracy: 0.9473 - val_loss: 0.8445 - val_accuracy: 0.8005\n",
      "Epoch 7/20\n",
      "3204/3204 - 404s - loss: 0.1400 - accuracy: 0.9516 - val_loss: 0.8801 - val_accuracy: 0.7830\n",
      "Epoch 8/20\n",
      "3204/3204 - 405s - loss: 0.1282 - accuracy: 0.9535 - val_loss: 0.9217 - val_accuracy: 0.8005\n",
      "Epoch 9/20\n",
      "3204/3204 - 402s - loss: 0.1190 - accuracy: 0.9594 - val_loss: 0.9582 - val_accuracy: 0.7968\n",
      "Epoch 10/20\n",
      "3204/3204 - 405s - loss: 0.1800 - accuracy: 0.9338 - val_loss: 0.9011 - val_accuracy: 0.7718\n",
      "Epoch 11/20\n",
      "3204/3204 - 404s - loss: 0.1387 - accuracy: 0.9510 - val_loss: 0.9097 - val_accuracy: 0.7768\n",
      "Epoch 12/20\n",
      "3204/3204 - 403s - loss: 0.1165 - accuracy: 0.9588 - val_loss: 0.9982 - val_accuracy: 0.7830\n",
      "Epoch 13/20\n",
      "3204/3204 - 402s - loss: 0.1206 - accuracy: 0.9572 - val_loss: 0.9979 - val_accuracy: 0.7880\n",
      "Epoch 14/20\n",
      "3204/3204 - 401s - loss: 0.1053 - accuracy: 0.9647 - val_loss: 1.2335 - val_accuracy: 0.7656\n",
      "Epoch 15/20\n",
      "3204/3204 - 403s - loss: 0.1329 - accuracy: 0.9594 - val_loss: 1.0594 - val_accuracy: 0.6796\n",
      "Epoch 16/20\n",
      "3204/3204 - 404s - loss: 0.2459 - accuracy: 0.9029 - val_loss: 0.9967 - val_accuracy: 0.7768\n",
      "Epoch 17/20\n",
      "3204/3204 - 406s - loss: 0.1338 - accuracy: 0.9544 - val_loss: 0.9924 - val_accuracy: 0.7968\n",
      "Epoch 18/20\n",
      "3204/3204 - 404s - loss: 0.1078 - accuracy: 0.9597 - val_loss: 0.9926 - val_accuracy: 0.7793\n",
      "Epoch 19/20\n",
      "3204/3204 - 405s - loss: 0.1086 - accuracy: 0.9666 - val_loss: 1.1039 - val_accuracy: 0.7843\n",
      "Epoch 20/20\n",
      "3204/3204 - 404s - loss: 0.0947 - accuracy: 0.9666 - val_loss: 1.2257 - val_accuracy: 0.7818\n"
     ]
    }
   ],
   "source": [
    "train_padded_array = np.asarray(train_padded)\n",
    "\n",
    "opt = tf.keras.optimizers.Adam(learning_rate=0.00075)\n",
    "\n",
    "model.compile(loss='categorical_crossentropy', optimizer=opt, metrics=['accuracy'])\n",
    "num_epochs = 20\n",
    "history = model.fit(train_padded, train_labels, epochs=num_epochs, validation_data=(validation_padded, validation_labels), verbose=2)"
   ]
  },
  {
   "cell_type": "code",
   "execution_count": 188,
   "metadata": {
    "scrolled": false
   },
   "outputs": [
    {
     "data": {
      "image/png": "[encoded data removed]",
      "text/plain": [
       "<Figure size 432x288 with 1 Axes>"
      ]
     },
     "metadata": {
      "needs_background": "light"
     },
     "output_type": "display_data"
    },
    {
     "data": {
      "image/png": "[encoded data removed]",
      "text/plain": [
       "<Figure size 432x288 with 1 Axes>"
      ]
     },
     "metadata": {
      "needs_background": "light"
     },
     "output_type": "display_data"
    }
   ],
   "source": [
    "def plot_graphs(history, string):\n",
    "    plt.plot(history.history[string])\n",
    "    plt.plot(history.history['val_'+string])\n",
    "    plt.xlabel(\"Epochs\")\n",
    "    plt.ylabel(string)\n",
    "    plt.legend([string, 'val_'+string])\n",
    "    plt.show()\n",
    "\n",
    "plot_graphs(history, \"accuracy\")\n",
    "plot_graphs(history, \"loss\")"
   ]
  },
  {
   "cell_type": "markdown",
   "metadata": {},
   "source": [
    "Model is cleary overfitting. However, I've managed to reduce overfitting drastically compared to earlier versions of my neural net by experimenting with different parameters.\n",
    "\n",
    "Some of the steps I can take to improve:\n",
    "\n",
    "<ul>\n",
    "    <li>Get more data</li>\n",
    "    <li>Keep experiment with different parameters</li>\n",
    "    <li>Experiment with a simpler neural net</li>\n",
    "    <li>Upsample after train/test split</li>\n",
    "</ul>"
   ]
  },
  {
   "cell_type": "markdown",
   "metadata": {},
   "source": [
    "## Save model"
   ]
  },
  {
   "cell_type": "markdown",
   "metadata": {},
   "source": [
    "I will save the model and the tokenizer for use in my app."
   ]
  },
  {
   "cell_type": "code",
   "execution_count": 189,
   "metadata": {},
   "outputs": [],
   "source": [
    "model.save('cv-classifier/app/assets/model1.h5')"
   ]
  },
  {
   "cell_type": "code",
   "execution_count": 190,
   "metadata": {},
   "outputs": [],
   "source": [
    "import pickle\n",
    "\n",
    "# saving\n",
    "with open('cv-classifier/app/assets/tokenizer.pickle', 'wb') as handle:\n",
    "    pickle.dump(tokenizer, handle, protocol=pickle.HIGHEST_PROTOCOL)\n",
    "\n",
    "# loading\n",
    "with open('cv-classifier/app/assets/tokenizer.pickle', 'rb') as handle:\n",
    "    tokenizer = pickle.load(handle)"
   ]
  }
 ],
 "metadata": {
  "kernelspec": {
   "display_name": "Python 3",
   "language": "python",
   "name": "python3"
  },
  "language_info": {
   "codemirror_mode": {
    "name": "ipython",
    "version": 3
   },
   "file_extension": ".py",
   "mimetype": "text/x-python",
   "name": "python",
   "nbconvert_exporter": "python",
   "pygments_lexer": "ipython3",
   "version": "3.7.6"
  }
 },
 "nbformat": 4,
 "nbformat_minor": 4
}
