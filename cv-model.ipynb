{
 "cells": [
  {
   "cell_type": "code",
   "execution_count": 2,
   "metadata": {
    "scrolled": true
   },
   "outputs": [
    {
     "output_type": "stream",
     "name": "stdout",
     "text": "2.1.0\n[nltk_data] Downloading package stopwords to /home/robin/nltk_data...\n[nltk_data]   Package stopwords is already up-to-date!\n"
    }
   ],
   "source": [
    "import requests\n",
    "from bs4 import BeautifulSoup\n",
    "import re\n",
    "import os\n",
    "\n",
    "import random\n",
    "\n",
    "import pandas as pd\n",
    "import numpy as np\n",
    "from sklearn.utils import shuffle\n",
    "import matplotlib.pyplot as plt\n",
    "\n",
    "import csv\n",
    "import tensorflow as tf\n",
    "from tensorflow.keras.preprocessing.text import Tokenizer\n",
    "from tensorflow.keras.preprocessing.sequence import pad_sequences\n",
    "\n",
    "import nltk\n",
    "from nltk.corpus import stopwords\n",
    "nltk.download('stopwords')\n",
    "\n",
    "STOPWORDS = set(stopwords.words('english'))\n",
    "\n",
    "print(tf.__version__)"
   ]
  },
  {
   "cell_type": "markdown",
   "metadata": {},
   "source": [
    "## Function to scrape job openings from Indeed"
   ]
  },
  {
   "cell_type": "code",
   "execution_count": 3,
   "metadata": {},
   "outputs": [],
   "source": [
    "def scraper(job_title):\n",
    "    \n",
    "    job_openings = [] # list with job opening text\n",
    "    labels = [] # list with job opening labels\n",
    "    \n",
    "    main = \"https://www.indeed.com/\" # main indeed url\n",
    "    \n",
    "    for item in job_title:\n",
    "    \n",
    "        job = item.replace(\" \", \"+\") # replace space in job title with dash\n",
    "\n",
    "        for number in range(0, 500, 10): # will scrape 500 job openings\n",
    "\n",
    "            url = f\"{main}jobs?q={job}&start={number}\" # compile job specific url\n",
    "\n",
    "            page = requests.get(url) # request url\n",
    "\n",
    "            soup = BeautifulSoup(page.content, \"html.parser\") # parse the page with beautifulsoup\n",
    "\n",
    "            links = [a['href'] for a in soup.find_all('a', href=True)] # find all the urls on the page\n",
    "\n",
    "            match_links = [main+s for s in links if \"/rc/clk?jk=\" in s] # find all the urls that link to job page\n",
    "\n",
    "            for link in match_links: # loop through the 10 job ad urls on the page\n",
    "                job_page = requests.get(link) # request the job ad url\n",
    "                job_soup = BeautifulSoup(job_page.content, \"html.parser\") # parse the page\n",
    "                \n",
    "                \n",
    "\n",
    "                for element in job_soup.find_all('div', attrs={\"class\":\"jobsearch-jobDescriptionText\"}): # loop through the job text\n",
    "                    text = element.get_text(separator = \" \").replace(\"\\n\",\"\") # remove all tags from job text\n",
    "                    \n",
    "                    job_openings.append(text) # append job text tot job_openings\n",
    "                    labels.append(item) # append job title\n",
    "                    \n",
    "    \n",
    "    return job_openings, labels"
   ]
  },
  {
   "cell_type": "markdown",
   "metadata": {},
   "source": [
    "The scraper can take a list with any number of job titles and will take the first 500 job openings."
   ]
  },
  {
   "cell_type": "code",
   "execution_count": 5,
   "metadata": {},
   "outputs": [],
   "source": [
    "job_openings = [\"data scientist\", \"front-office manager\", \"front-end developer\", \"sales manager\"]\n",
    "\n",
    "jobs, labels = scraper(job_openings)"
   ]
  },
  {
   "cell_type": "markdown",
   "metadata": {},
   "source": [
    "## Preparing the data\n",
    "\n",
    "For convenience I have scraped the job openings of 4 job titles and put them in a csv so I don't have to run the scraper every session (it takes some time to complete). \n",
    "\n",
    "First, load the csv and randomize"
   ]
  },
  {
   "cell_type": "code",
   "execution_count": 3,
   "metadata": {},
   "outputs": [],
   "source": [
    "df = pd.read_csv('data/data-set.csv')\n",
    "df = df.sample(frac=1).reset_index(drop=True)\n",
    "\n",
    "conditions = [\n",
    "    (df['labels'] == 'data scientist'),\n",
    "    (df['labels'] == 'sales manager'),\n",
    "    (df['labels'] == 'front-office manager'),\n",
    "    (df['labels'] == 'front-end developer')]\n",
    "choices = [0, 1, 2, 3]\n",
    "df['labels_num'] = np.select(conditions, choices) # make label column numerica\n",
    "\n",
    "jobs = df['jobs'].to_numpy()\n",
    "labels = df['labels_num'].to_numpy()"
   ]
  },
  {
   "cell_type": "markdown",
   "metadata": {},
   "source": [
    "Then, remove the stopwords"
   ]
  },
  {
   "cell_type": "code",
   "execution_count": 4,
   "metadata": {},
   "outputs": [],
   "source": [
    "jobs_clean = []\n",
    "\n",
    "for i in jobs:\n",
    "    job = i\n",
    "    for word in STOPWORDS:\n",
    "        token = ' ' + word + ' '\n",
    "        job = job.replace(token, ' ')\n",
    "        job = job.replace(' ', ' ')\n",
    "    jobs_clean.append(job)"
   ]
  },
  {
   "cell_type": "markdown",
   "metadata": {},
   "source": [
    "Then, set our paramaters"
   ]
  },
  {
   "cell_type": "code",
   "execution_count": 5,
   "metadata": {},
   "outputs": [],
   "source": [
    "vocab_size = 8000 # most common words\n",
    "embedding_dim = 64\n",
    "max_length = 600\n",
    "trunc_type = 'post'\n",
    "padding_type = 'post'\n",
    "oov_tok = '<OOV>' # not in word index\n",
    "training_portion = .8 # portion of training set"
   ]
  },
  {
   "cell_type": "markdown",
   "metadata": {},
   "source": [
    "One-hot-encode label column"
   ]
  },
  {
   "cell_type": "code",
   "execution_count": 6,
   "metadata": {},
   "outputs": [],
   "source": [
    "labels = tf.keras.utils.to_categorical(labels, num_classes=4)"
   ]
  },
  {
   "cell_type": "markdown",
   "metadata": {},
   "source": [
    "Convert them to a train and test set"
   ]
  },
  {
   "cell_type": "code",
   "execution_count": 7,
   "metadata": {},
   "outputs": [
    {
     "name": "stdout",
     "output_type": "stream",
     "text": [
      "1601\n",
      "1601\n",
      "1601\n",
      "401\n",
      "401\n"
     ]
    }
   ],
   "source": [
    "train_size = int(len(jobs_clean) * training_portion)\n",
    "\n",
    "train_jobs = jobs_clean[0: train_size]\n",
    "train_labels = labels[0: train_size]\n",
    "\n",
    "validation_jobs = jobs_clean[train_size:]\n",
    "validation_labels = labels[train_size:]\n",
    "\n",
    "print(train_size)\n",
    "print(len(train_jobs))\n",
    "print(len(train_labels))\n",
    "print(len(validation_jobs))\n",
    "print(len(validation_labels))"
   ]
  },
  {
   "cell_type": "markdown",
   "metadata": {},
   "source": [
    "Tokenizer\n",
    "\n",
    "OOV is the most common, followed by experience, etc."
   ]
  },
  {
   "cell_type": "code",
   "execution_count": 8,
   "metadata": {
    "scrolled": true
   },
   "outputs": [
    {
     "data": {
      "text/plain": [
       "{'<OOV>': 1,\n",
       " 'experience': 2,\n",
       " 'data': 3,\n",
       " 'work': 4,\n",
       " 'sales': 5,\n",
       " 'team': 6,\n",
       " 'skills': 7,\n",
       " 'business': 8,\n",
       " 'ability': 9,\n",
       " 'the': 10}"
      ]
     },
     "execution_count": 8,
     "metadata": {},
     "output_type": "execute_result"
    }
   ],
   "source": [
    "tokenizer = Tokenizer(num_words = vocab_size, oov_token=oov_tok)\n",
    "tokenizer.fit_on_texts(train_jobs)\n",
    "word_index = tokenizer.word_index\n",
    "dict(list(word_index.items())[0:10])"
   ]
  },
  {
   "cell_type": "markdown",
   "metadata": {},
   "source": [
    "Turn into list of sequence"
   ]
  },
  {
   "cell_type": "code",
   "execution_count": 9,
   "metadata": {
    "scrolled": false
   },
   "outputs": [
    {
     "name": "stdout",
     "output_type": "stream",
     "text": [
      "[4113, 901, 1020, 104, 3, 221, 184, 3, 103, 6, 81, 1, 901, 1479, 2128, 1, 3318, 861, 3319, 829, 15, 3319, 10, 3, 103, 6, 3119, 590, 611, 3, 103, 392, 1130, 1, 8, 165, 1354, 531, 733, 1487, 1593, 293, 45, 2164, 3, 103, 6, 1356, 818, 8, 2242, 36, 2102, 409, 724, 79, 1065, 3, 8, 876, 1356, 147, 293, 291, 703, 914, 487, 1, 293, 27, 1294, 114, 68, 3, 221, 96, 363, 8, 165, 3683, 940, 696, 620, 8, 409, 192, 117, 1452, 212, 210, 557, 444, 941, 136, 3316, 171, 993, 71, 411, 295, 190, 22, 289, 333, 92, 1929, 171, 374, 75, 36, 276, 354, 189, 970, 171, 136, 392, 99, 456, 1133, 606, 297, 762, 456, 652, 647, 34, 1551, 1629, 606, 297, 430, 76, 372, 51, 85, 42, 525, 268, 144, 25, 2, 2290, 3, 136, 293, 99, 8, 396, 245, 66, 58, 285, 802, 258, 85, 42, 525, 268, 412, 25, 2, 2290, 3, 136, 293, 99, 8, 396, 245, 66, 4113, 1908, 191, 1, 20, 1050, 51, 85, 42, 525, 268, 144, 25, 2, 2290, 3, 136, 293, 99, 8, 396, 245, 43, 2, 727, 3, 1720, 190, 6072, 6604, 1821, 378, 1, 1821, 2198, 769, 3, 3117, 61, 76, 1196, 51, 212, 210, 234, 287, 7, 24, 321, 55, 7, 3, 589, 2, 102, 1494, 1430, 4114, 2, 275, 737, 769, 82, 1400, 1820, 3553, 349, 233, 269, 269, 4304, 3418, 22, 26, 1685, 3823, 74, 45, 409, 964, 523, 3418, 22, 479, 311, 156, 3947, 971, 97, 228, 191, 836, 133, 4113, 676, 5638, 632, 74, 126, 1700, 2610, 1021, 2204, 511, 680, 91, 680, 491, 1522, 1685, 678, 1319, 11, 479, 311, 156, 882, 1847, 4, 328, 118, 3947, 97, 228, 1, 133, 1784, 145, 4735, 4113, 1930, 3042, 1799, 1314, 2556, 106, 1243, 1612, 3042, 856, 905, 710, 4113, 1479, 191, 224, 61, 1274, 254, 99, 947, 684, 2491, 856, 3824, 453, 288, 627, 584, 3318, 1, 553, 700, 627, 584, 15, 3319, 3319, 829, 428, 167, 28, 220, 2005, 154, 28, 2062, 470, 758, 23, 1453, 6605, 1969, 986]\n"
     ]
    }
   ],
   "source": [
    "train_sequences = tokenizer.texts_to_sequences(train_jobs)\n",
    "print(train_sequences[10]) # 11th job opening"
   ]
  },
  {
   "cell_type": "code",
   "execution_count": 27,
   "metadata": {},
   "outputs": [
    {
     "data": {
      "text/plain": [
       "list"
      ]
     },
     "execution_count": 27,
     "metadata": {},
     "output_type": "execute_result"
    }
   ],
   "source": [
    "type(train_jobs)"
   ]
  },
  {
   "cell_type": "code",
   "execution_count": 23,
   "metadata": {},
   "outputs": [
    {
     "data": {
      "text/plain": [
       "[23,\n",
       " 509,\n",
       " 2032,\n",
       " 174,\n",
       " 775,\n",
       " 605,\n",
       " 14,\n",
       " 1288,\n",
       " 1583,\n",
       " 196,\n",
       " 68,\n",
       " 146,\n",
       " 866,\n",
       " 563,\n",
       " 16,\n",
       " 489,\n",
       " 14,\n",
       " 64,\n",
       " 127,\n",
       " 1607,\n",
       " 3,\n",
       " 1191,\n",
       " 1238,\n",
       " 5620,\n",
       " 94,\n",
       " 7251,\n",
       " 657,\n",
       " 1505,\n",
       " 2542,\n",
       " 7251,\n",
       " 1811,\n",
       " 2804,\n",
       " 4093,\n",
       " 626,\n",
       " 35,\n",
       " 1,\n",
       " 1679,\n",
       " 6053,\n",
       " 2543,\n",
       " 2930,\n",
       " 2662,\n",
       " 7251,\n",
       " 1378,\n",
       " 6583,\n",
       " 1922,\n",
       " 78,\n",
       " 1626,\n",
       " 411,\n",
       " 2473,\n",
       " 1192,\n",
       " 172,\n",
       " 64,\n",
       " 39,\n",
       " 563,\n",
       " 792,\n",
       " 2473,\n",
       " 124,\n",
       " 908,\n",
       " 1176,\n",
       " 1013,\n",
       " 95,\n",
       " 20,\n",
       " 462,\n",
       " 72,\n",
       " 1565,\n",
       " 196,\n",
       " 1,\n",
       " 433,\n",
       " 6054,\n",
       " 1088,\n",
       " 1367,\n",
       " 6583,\n",
       " 1922,\n",
       " 5621,\n",
       " 7252,\n",
       " 1014,\n",
       " 461,\n",
       " 1,\n",
       " 1,\n",
       " 1139,\n",
       " 1,\n",
       " 1872,\n",
       " 522,\n",
       " 2473,\n",
       " 1872,\n",
       " 113,\n",
       " 209,\n",
       " 109,\n",
       " 156,\n",
       " 563,\n",
       " 196,\n",
       " 64,\n",
       " 2033,\n",
       " 489,\n",
       " 14,\n",
       " 1139,\n",
       " 563,\n",
       " 927,\n",
       " 139,\n",
       " 179,\n",
       " 694,\n",
       " 3535,\n",
       " 427,\n",
       " 3027,\n",
       " 2805,\n",
       " 4482,\n",
       " 1426,\n",
       " 14,\n",
       " 3535,\n",
       " 549,\n",
       " 7253,\n",
       " 3028,\n",
       " 245,\n",
       " 16,\n",
       " 14,\n",
       " 1367,\n",
       " 427,\n",
       " 146,\n",
       " 305,\n",
       " 110,\n",
       " 67,\n",
       " 118,\n",
       " 118,\n",
       " 1812,\n",
       " 657,\n",
       " 14,\n",
       " 21,\n",
       " 43,\n",
       " 66,\n",
       " 310,\n",
       " 21,\n",
       " 1379,\n",
       " 15,\n",
       " 4483,\n",
       " 14,\n",
       " 522,\n",
       " 124,\n",
       " 657,\n",
       " 3,\n",
       " 1191,\n",
       " 331,\n",
       " 4721,\n",
       " 1,\n",
       " 7254,\n",
       " 1070,\n",
       " 7251,\n",
       " 582,\n",
       " 4094,\n",
       " 142,\n",
       " 1566,\n",
       " 47,\n",
       " 163,\n",
       " 34,\n",
       " 652,\n",
       " 2544,\n",
       " 4284,\n",
       " 4966,\n",
       " 2806,\n",
       " 717,\n",
       " 3304,\n",
       " 2473,\n",
       " 1192,\n",
       " 4095,\n",
       " 1,\n",
       " 47,\n",
       " 163,\n",
       " 67,\n",
       " 2060,\n",
       " 398,\n",
       " 14,\n",
       " 522,\n",
       " 596,\n",
       " 1351,\n",
       " 446,\n",
       " 344,\n",
       " 670,\n",
       " 36,\n",
       " 593,\n",
       " 3203,\n",
       " 320,\n",
       " 717,\n",
       " 14,\n",
       " 21,\n",
       " 468,\n",
       " 117,\n",
       " 1474,\n",
       " 369,\n",
       " 131,\n",
       " 1039,\n",
       " 657,\n",
       " 2663,\n",
       " 21,\n",
       " 717,\n",
       " 14,\n",
       " 21,\n",
       " 43,\n",
       " 66,\n",
       " 310,\n",
       " 21,\n",
       " 53,\n",
       " 597,\n",
       " 975,\n",
       " 6,\n",
       " 464,\n",
       " 173,\n",
       " 1445,\n",
       " 197,\n",
       " 1,\n",
       " 37,\n",
       " 12,\n",
       " 553,\n",
       " 64,\n",
       " 113,\n",
       " 209,\n",
       " 109,\n",
       " 156,\n",
       " 1106,\n",
       " 17,\n",
       " 2807,\n",
       " 709,\n",
       " 14,\n",
       " 879,\n",
       " 47,\n",
       " 111,\n",
       " 10,\n",
       " 9,\n",
       " 1040,\n",
       " 175,\n",
       " 473,\n",
       " 227,\n",
       " 270,\n",
       " 58,\n",
       " 793,\n",
       " 2061,\n",
       " 314,\n",
       " 1203,\n",
       " 9,\n",
       " 4,\n",
       " 6,\n",
       " 32,\n",
       " 62,\n",
       " 545,\n",
       " 9,\n",
       " 999,\n",
       " 1071,\n",
       " 423,\n",
       " 92,\n",
       " 130,\n",
       " 29,\n",
       " 77,\n",
       " 419,\n",
       " 577,\n",
       " 260,\n",
       " 434,\n",
       " 32,\n",
       " 9,\n",
       " 554,\n",
       " 83,\n",
       " 510,\n",
       " 213,\n",
       " 124,\n",
       " 9,\n",
       " 56,\n",
       " 683,\n",
       " 34,\n",
       " 1528,\n",
       " 767,\n",
       " 22,\n",
       " 32,\n",
       " 143,\n",
       " 43,\n",
       " 66,\n",
       " 2,\n",
       " 512,\n",
       " 3663,\n",
       " 2415,\n",
       " 216,\n",
       " 1053,\n",
       " 2,\n",
       " 179,\n",
       " 146,\n",
       " 866,\n",
       " 1,\n",
       " 1,\n",
       " 7255,\n",
       " 1,\n",
       " 1289,\n",
       " 1,\n",
       " 1223,\n",
       " 1,\n",
       " 110,\n",
       " 19,\n",
       " 90,\n",
       " 311,\n",
       " 146,\n",
       " 3,\n",
       " 1191,\n",
       " 189,\n",
       " 2,\n",
       " 63,\n",
       " 85,\n",
       " 3,\n",
       " 1191,\n",
       " 435,\n",
       " 2808,\n",
       " 1053,\n",
       " 61,\n",
       " 29,\n",
       " 77,\n",
       " 659,\n",
       " 1873,\n",
       " 151,\n",
       " 684,\n",
       " 376,\n",
       " 1328,\n",
       " 7256,\n",
       " 420,\n",
       " 1168,\n",
       " 54,\n",
       " 23,\n",
       " 232,\n",
       " 1,\n",
       " 635,\n",
       " 23,\n",
       " 4285,\n",
       " 1627,\n",
       " 2158,\n",
       " 174,\n",
       " 598,\n",
       " 172,\n",
       " 40,\n",
       " 33,\n",
       " 1463,\n",
       " 2809,\n",
       " 276,\n",
       " 3406,\n",
       " 2381,\n",
       " 1107,\n",
       " 40,\n",
       " 64,\n",
       " 39,\n",
       " 12,\n",
       " 3664,\n",
       " 399,\n",
       " 1475,\n",
       " 436,\n",
       " 64,\n",
       " 33,\n",
       " 19,\n",
       " 28,\n",
       " 1,\n",
       " 12,\n",
       " 817,\n",
       " 4484,\n",
       " 527,\n",
       " 1874,\n",
       " 116,\n",
       " 48,\n",
       " 134,\n",
       " 10,\n",
       " 26,\n",
       " 824,\n",
       " 825,\n",
       " 895,\n",
       " 291,\n",
       " 1151,\n",
       " 685,\n",
       " 690,\n",
       " 1506,\n",
       " 2474,\n",
       " 5622,\n",
       " 10,\n",
       " 26,\n",
       " 2931,\n",
       " 2382,\n",
       " 2228,\n",
       " 1474,\n",
       " 272,\n",
       " 23,\n",
       " 4967,\n",
       " 277,\n",
       " 476,\n",
       " 248,\n",
       " 264,\n",
       " 1715,\n",
       " 271,\n",
       " 1302,\n",
       " 151,\n",
       " 257,\n",
       " 318,\n",
       " 377,\n",
       " 265,\n",
       " 236,\n",
       " 91,\n",
       " 631,\n",
       " 214,\n",
       " 500,\n",
       " 214,\n",
       " 256,\n",
       " 57,\n",
       " 2,\n",
       " 19,\n",
       " 1127,\n",
       " 204,\n",
       " 237,\n",
       " 267,\n",
       " 146,\n",
       " 866,\n",
       " 2,\n",
       " 88,\n",
       " 196,\n",
       " 1507,\n",
       " 61,\n",
       " 2,\n",
       " 3934,\n",
       " 2229,\n",
       " 605,\n",
       " 174,\n",
       " 146,\n",
       " 183,\n",
       " 2229,\n",
       " 4,\n",
       " 32,\n",
       " 143,\n",
       " 19,\n",
       " 58,\n",
       " 285,\n",
       " 802,\n",
       " 389,\n",
       " 1584,\n",
       " 389,\n",
       " 61,\n",
       " 3806,\n",
       " 1,\n",
       " 3204,\n",
       " 389,\n",
       " 1,\n",
       " 389,\n",
       " 146,\n",
       " 866,\n",
       " 389,\n",
       " 2415,\n",
       " 1486,\n",
       " 19,\n",
       " 4286,\n",
       " 146,\n",
       " 866,\n",
       " 61,\n",
       " 3806,\n",
       " 1,\n",
       " 3204,\n",
       " 6584,\n",
       " 1053,\n",
       " 1177,\n",
       " 146,\n",
       " 1,\n",
       " 3806,\n",
       " 1520,\n",
       " 3204,\n",
       " 146,\n",
       " 7257,\n",
       " 1,\n",
       " 7,\n",
       " 61,\n",
       " 486,\n",
       " 178,\n",
       " 2930,\n",
       " 6053,\n",
       " 6054,\n",
       " 18,\n",
       " 31,\n",
       " 1409,\n",
       " 146,\n",
       " 626,\n",
       " 1521,\n",
       " 227,\n",
       " 270,\n",
       " 146,\n",
       " 2730,\n",
       " 570,\n",
       " 1,\n",
       " 6055,\n",
       " 164,\n",
       " 55,\n",
       " 321,\n",
       " 55,\n",
       " 1835,\n",
       " 61,\n",
       " 6,\n",
       " 909,\n",
       " 446,\n",
       " 62,\n",
       " 464,\n",
       " 223,\n",
       " 380,\n",
       " 326,\n",
       " 1169,\n",
       " 2126,\n",
       " 1410,\n",
       " 577,\n",
       " 1152,\n",
       " 278,\n",
       " 484,\n",
       " 577,\n",
       " 1210,\n",
       " 62,\n",
       " 832,\n",
       " 3665,\n",
       " 577,\n",
       " 742,\n",
       " 2278,\n",
       " 826,\n",
       " 3666,\n",
       " 61,\n",
       " 4,\n",
       " 225,\n",
       " 959,\n",
       " 1641,\n",
       " 112,\n",
       " 62,\n",
       " 4968,\n",
       " 28,\n",
       " 1779,\n",
       " 4,\n",
       " 2416,\n",
       " 616,\n",
       " 4,\n",
       " 743,\n",
       " 951,\n",
       " 1641,\n",
       " 112,\n",
       " 62,\n",
       " 951,\n",
       " 270,\n",
       " 251,\n",
       " 1178,\n",
       " 1641,\n",
       " 112,\n",
       " 277,\n",
       " 616,\n",
       " 96,\n",
       " 116,\n",
       " 48,\n",
       " 134,\n",
       " 214,\n",
       " 1072,\n",
       " 272,\n",
       " 631,\n",
       " 10,\n",
       " 1874,\n",
       " 2545,\n",
       " 253,\n",
       " 872,\n",
       " 74,\n",
       " 205,\n",
       " 3029,\n",
       " 336,\n",
       " 2731,\n",
       " 3030,\n",
       " 594,\n",
       " 594,\n",
       " 1250,\n",
       " 131,\n",
       " 1395,\n",
       " 1508,\n",
       " 74,\n",
       " 407,\n",
       " 564,\n",
       " 35,\n",
       " 74,\n",
       " 205,\n",
       " 168,\n",
       " 172,\n",
       " 23,\n",
       " 139,\n",
       " 2328,\n",
       " 2932,\n",
       " 594,\n",
       " 74,\n",
       " 205,\n",
       " 272,\n",
       " 1836,\n",
       " 407,\n",
       " 564,\n",
       " 35,\n",
       " 2475,\n",
       " 2810,\n",
       " 89,\n",
       " 1341,\n",
       " 1740,\n",
       " 2933,\n",
       " 1661,\n",
       " 698,\n",
       " 2934,\n",
       " 1168,\n",
       " 3108,\n",
       " 1585,\n",
       " 291,\n",
       " 20,\n",
       " 1168,\n",
       " 2664,\n",
       " 134,\n",
       " 502,\n",
       " 621,\n",
       " 3536,\n",
       " 952,\n",
       " 1015,\n",
       " 2665,\n",
       " 35,\n",
       " 3807,\n",
       " 3808,\n",
       " 1642,\n",
       " 204,\n",
       " 1996,\n",
       " 502]"
      ]
     },
     "execution_count": 23,
     "metadata": {},
     "output_type": "execute_result"
    }
   ],
   "source": [
    "train_sequences[0]"
   ]
  },
  {
   "cell_type": "markdown",
   "metadata": {},
   "source": [
    "Pad sequences so they are all the same size. train_padded is length 500"
   ]
  },
  {
   "cell_type": "code",
   "execution_count": 10,
   "metadata": {},
   "outputs": [
    {
     "name": "stdout",
     "output_type": "stream",
     "text": [
      "615\n",
      "600\n",
      "782\n",
      "600\n",
      "355\n",
      "600\n"
     ]
    }
   ],
   "source": [
    "train_padded = pad_sequences(train_sequences, maxlen=max_length, padding=padding_type, truncating=trunc_type)\n",
    "print(len(train_sequences[0])) # old\n",
    "print(len(train_padded[0])) # new\n",
    "\n",
    "print(len(train_sequences[1]))\n",
    "print(len(train_padded[1]))\n",
    "\n",
    "print(len(train_sequences[10]))\n",
    "print(len(train_padded[10]))"
   ]
  },
  {
   "cell_type": "markdown",
   "metadata": {},
   "source": [
    "Do the same for validation sequences"
   ]
  },
  {
   "cell_type": "code",
   "execution_count": 11,
   "metadata": {},
   "outputs": [
    {
     "name": "stdout",
     "output_type": "stream",
     "text": [
      "401\n",
      "(401, 600)\n"
     ]
    }
   ],
   "source": [
    "validation_sequences = tokenizer.texts_to_sequences(validation_jobs)\n",
    "validation_padded = pad_sequences(validation_sequences, maxlen=max_length, padding=padding_type, truncating=trunc_type)\n",
    "\n",
    "print(len(validation_sequences))\n",
    "print(validation_padded.shape)"
   ]
  },
  {
   "cell_type": "markdown",
   "metadata": {},
   "source": [
    "Compare original job text and job text after padding and tokenization"
   ]
  },
  {
   "cell_type": "code",
   "execution_count": 12,
   "metadata": {},
   "outputs": [
    {
     "name": "stdout",
     "output_type": "stream",
     "text": [
      "project manager sales operations <OOV> no visa sponsorship available position preferred qualifications job description as senior project manager north america applications sales operations team responsible contributing short term long range business planning ultimate goal improving sales process efficiency overall sales productivity you collect verify analyze sales operations data measure key performance indicators make recommendations implement programs aimed improving business processes we looking someone team player possesses unique ability craft strategic vision roll sleeves make vision reality responsibilities serve project manager variety sales operations projects – lead teams hit milestones ensure project status progress communicated stakeholders partner technical teams improve sales tools automate much possible sales manager coaching quarterly business reviews include account planning white space install base reporting executive relationship scoring opportunity sales play progress take leadership role team evaluate current business process data issues recommend new processes governance models synthesize consolidate analyze complex data information variety sources identify evaluate relevant issues target improvements evaluate business processes anticipate requirements uncover areas improvement develop lead implementation solutions thoroughly document communicate results efforts conduct meetings create presentations share ideas findings prioritize initiatives based business needs requirements effectively manage competing resources priorities little supervision qualifications demonstrable ability present complex data plans diverse audiences strong leadership innovation creativity bringing various <OOV> together advance business <OOV> strong problem solving skills exceptional attention detail strong communication skills ability partner effectively across levels organization excellent planning prioritization organizational time management skills a history leading supporting successful projects advanced skills excel powerpoint previous project management consulting experience preferred pmp certification preferred creates environment personal accountability ownership problem solving instills performance driven results orientation culture based data facts works well pressure adapt well changing priorities takes full accountability achievement organizational results inspires empowers others toward achievement goals strategies mba equivalent post degree qualifications desirable at oracle don’t value <OOV> celebrate them we’re committed creating workplace kinds people work together we believe innovation starts diversity inclusion https www oracle com corporate careers culture diversity html detailed description job requirements provides programs improve operational efficiency consistency compliance support organization s financial tactical business objectives provides business practices processes develops communicates trains organization business practices processes serve liaison divisions finance contracts hr legal shared services accounts receivable purchasing risk management effort ensure accurate timely transaction processing collect input verify correct analyze data measure key performance <OOV> actual versus business objectives provide updates management regarding budget actual informing deviations opportunities provide management economic impact compliance issues surrounding key business decisions and or deals communicate oracle business practices organization monitor process approvals full compliance drive implementation new processes procedures leading contributor individually team member providing direction mentoring others work non routine complex involving application advanced technical business skills area specialization ability collect organize display data spreadsheet format follow through skills necessary get information internal third parties data errors <OOV> corrected for this relationship management skills strongly desired strong written verbal communication skills 8 plus years relevant work experience oracle affirmative action equal employment opportunity employer all qualified applicants receive consideration employment without regard race color religion sex national origin sexual orientation gender identity disability protected veterans status age characteristic protected law ? ? ? ? ? ? ? ? ? ? ? ? ? ? ? ? ? ? ? ? ? ? ? ? ? ? ? ? ? ? ? ? ? ? ? ? ? ? ? ? ? ? ? ? ? ? ? ? ? ? ? ? ? ? ? ? ? ? ? ? ? ? ? ? ? ? ? ? ? ? ? ? ? ? ? ? ? ? ? ? ? ? ?\n",
      "---\n",
      "Project Manager- Sales Operations-20000678   No Visa Sponsorship available position.   Preferred Qualifications  Job Description  As senior project manager North America Applications sales operations team, responsible contributing short-term long-range business planning ultimate goal improving sales process efficiency overall sales productivity. You collect, verify, analyze sales operations data measure key performance indicators make recommendations/ implement programs aimed improving business processes. We looking someone team player possesses unique ability craft strategic vision roll sleeves make vision reality.   Responsibilities:  Serve project manager variety sales operations projects – lead teams hit milestones ensure project status & progress communicated stakeholders  Partner technical teams improve sales tools automate much possible sales manager coaching Quarterly Business Reviews include: account planning, white space install base reporting, executive relationship scoring, opportunity sales play progress.  Take leadership role team evaluate current business process data issues recommend new processes governance models  Synthesize, consolidate analyze complex data / information variety sources. Identify evaluate relevant issues target improvements.  Evaluate business processes, anticipate requirements, uncover areas improvement develop lead implementation solutions  Thoroughly document communicate results efforts  Conduct meetings create presentations share ideas findings  Prioritize initiatives based business needs requirements.  Effectively manage competing resources priorities little supervision   Qualifications:  Demonstrable ability present complex data plans diverse audiences.  Strong leadership, innovation creativity bringing various viewpoints together advance business imperatives  Strong problem solving skills exceptional attention detail  Strong communication skills; ability partner effectively across levels organization  Excellent planning, prioritization, organizational, time management skills  A history leading supporting successful projects  Advanced skills Excel PowerPoint  Previous project management consulting experience preferred  PMP Certification preferred  Creates environment personal accountability ownership problem-solving; instills performance driven, results-orientation culture based data facts  Works well pressure, adapt well changing priorities takes full accountability achievement organizational results  Inspires empowers others toward achievement goals strategies  MBA equivalent post degree qualifications desirable At Oracle, don’t value differences—we celebrate them. We’re committed creating workplace kinds people work together. We believe innovation starts diversity inclusion.   https://www.oracle.com/corporate/careers/culture/diversity.html    Detailed Description Job Requirements  Provides programs improve operational efficiency, consistency, compliance support organization*s financial tactical business objectives. Provides business practices processes. Develops, communicates, trains organization business practices processes.  Serve liaison divisions Finance, Contracts, HR, Legal, Shared Services, Accounts Receivable, Purchasing, Risk Management effort ensure accurate timely transaction processing. Collect, input, verify, correct, analyze data measure key performance indicator actual versus business objectives. Provide updates management regarding budget actual, informing deviations opportunities. Provide management economic impact compliance issues surrounding key business decisions and/or deals. Communicate Oracle Business Practices organization monitor process approvals full compliance. Drive implementation new processes procedures.  Leading contributor individually team member, providing direction mentoring others. Work non-routine complex, involving application advanced technical/business skills area specialization. Ability collect, organize, display data spreadsheet format. Follow-through skills necessary get information internal third parties data errors/omissions corrected. For this, relationship management skills strongly desired. Strong written verbal communication skills. 8 plus years relevant work experience.   Oracle Affirmative Action-Equal Employment Opportunity Employer. All qualified applicants receive consideration employment without regard race, color, religion, sex, national origin, sexual orientation, gender identity, disability, protected veterans status, age, characteristic protected law.\n"
     ]
    }
   ],
   "source": [
    "reverse_word_index = dict([(value, key) for (key, value) in word_index.items()])\n",
    "\n",
    "def decode_job(text):\n",
    "    return ' '.join([reverse_word_index.get(i, '?') for i in text])\n",
    "print(decode_job(train_padded[12]))\n",
    "print('---')\n",
    "print(train_jobs[12])"
   ]
  },
  {
   "cell_type": "markdown",
   "metadata": {},
   "source": [
    "## Building the model"
   ]
  },
  {
   "cell_type": "markdown",
   "metadata": {},
   "source": [
    "## Try #1 - Stacked LSTM layers"
   ]
  },
  {
   "cell_type": "code",
   "execution_count": null,
   "metadata": {},
   "outputs": [],
   "source": [
    "# vocab_size = 8000 # most common words\n",
    "# embedding_dim = 64\n",
    "# max_length = 600"
   ]
  },
  {
   "cell_type": "code",
   "execution_count": 89,
   "metadata": {
    "scrolled": true
   },
   "outputs": [
    {
     "name": "stdout",
     "output_type": "stream",
     "text": [
      "Model: \"sequential_6\"\n",
      "_________________________________________________________________\n",
      "Layer (type)                 Output Shape              Param #   \n",
      "=================================================================\n",
      "embedding_6 (Embedding)      (None, None, 64)          512000    \n",
      "_________________________________________________________________\n",
      "bidirectional_9 (Bidirection (None, None, 128)         66048     \n",
      "_________________________________________________________________\n",
      "bidirectional_10 (Bidirectio (None, 64)                41216     \n",
      "_________________________________________________________________\n",
      "dense_12 (Dense)             (None, 64)                4160      \n",
      "_________________________________________________________________\n",
      "dense_13 (Dense)             (None, 4)                 260       \n",
      "=================================================================\n",
      "Total params: 623,684\n",
      "Trainable params: 623,684\n",
      "Non-trainable params: 0\n",
      "_________________________________________________________________\n"
     ]
    }
   ],
   "source": [
    "model = tf.keras.Sequential([\n",
    "    # Add an Embedding layer expecting input vocab of size 8000, and output embedding dimension of size 64 we set at the top\n",
    "    tf.keras.layers.Embedding(vocab_size, embedding_dim),\n",
    "    tf.keras.layers.Bidirectional(tf.keras.layers.LSTM(embedding_dim, return_sequences=True)),\n",
    "    # Extra LSTM layer\n",
    "    tf.keras.layers.Bidirectional(tf.keras.layers.LSTM(32)),\n",
    "    # use ReLU in place of tanh function since they are very good alternatives of each other.\n",
    "    tf.keras.layers.Dense(embedding_dim, activation='relu'),\n",
    "    # Add a Dense layer with 4 nodes (1 for each class) and softmax activation.\n",
    "    # When we have multiple outputs, softmax convert outputs layers into a probability distribution.\n",
    "    tf.keras.layers.Dense(4, activation='softmax')\n",
    "])\n",
    "model.summary()"
   ]
  },
  {
   "cell_type": "code",
   "execution_count": 90,
   "metadata": {
    "scrolled": true
   },
   "outputs": [
    {
     "name": "stdout",
     "output_type": "stream",
     "text": [
      "Train on 1601 samples, validate on 401 samples\n",
      "Epoch 1/50\n",
      "1601/1601 - 92s - loss: 1.1418 - accuracy: 0.4703 - val_loss: 0.7719 - val_accuracy: 0.6534\n",
      "Epoch 2/50\n",
      "1601/1601 - 95s - loss: 0.4826 - accuracy: 0.8089 - val_loss: 0.4263 - val_accuracy: 0.8628\n",
      "Epoch 3/50\n",
      "1601/1601 - 89s - loss: 0.2857 - accuracy: 0.9082 - val_loss: 0.3196 - val_accuracy: 0.9027\n",
      "Epoch 4/50\n",
      "1601/1601 - 96s - loss: 0.2112 - accuracy: 0.9500 - val_loss: 0.4785 - val_accuracy: 0.8554\n",
      "Epoch 5/50\n",
      "1601/1601 - 95s - loss: 0.1271 - accuracy: 0.9763 - val_loss: 0.3654 - val_accuracy: 0.8953\n",
      "Epoch 6/50\n",
      "1601/1601 - 97s - loss: 0.1041 - accuracy: 0.9731 - val_loss: 0.3680 - val_accuracy: 0.8928\n",
      "Epoch 7/50\n",
      "1601/1601 - 93s - loss: 0.0507 - accuracy: 0.9869 - val_loss: 0.4115 - val_accuracy: 0.8953\n",
      "Epoch 8/50\n",
      "1601/1601 - 99s - loss: 0.0309 - accuracy: 0.9944 - val_loss: 0.3910 - val_accuracy: 0.9152\n",
      "Epoch 9/50\n",
      "1601/1601 - 93s - loss: 0.0340 - accuracy: 0.9938 - val_loss: 0.3881 - val_accuracy: 0.9102\n",
      "Epoch 10/50\n",
      "1601/1601 - 99s - loss: 0.0306 - accuracy: 0.9919 - val_loss: 0.3661 - val_accuracy: 0.9152\n",
      "Epoch 11/50\n",
      "1601/1601 - 97s - loss: 0.0195 - accuracy: 0.9963 - val_loss: 0.3876 - val_accuracy: 0.9277\n",
      "Epoch 12/50\n",
      "1601/1601 - 95s - loss: 0.0280 - accuracy: 0.9950 - val_loss: 0.4174 - val_accuracy: 0.9052\n",
      "Epoch 13/50\n",
      "1601/1601 - 101s - loss: 0.0270 - accuracy: 0.9938 - val_loss: 0.4328 - val_accuracy: 0.9027\n",
      "Epoch 14/50\n",
      "1601/1601 - 89s - loss: 0.0154 - accuracy: 0.9969 - val_loss: 0.3796 - val_accuracy: 0.9252\n",
      "Epoch 15/50\n",
      "1601/1601 - 95s - loss: 0.0135 - accuracy: 0.9969 - val_loss: 0.3997 - val_accuracy: 0.9152\n",
      "Epoch 16/50\n",
      "1601/1601 - 91s - loss: 0.0185 - accuracy: 0.9956 - val_loss: 0.5554 - val_accuracy: 0.8778\n",
      "Epoch 17/50\n",
      "1601/1601 - 98s - loss: 0.0179 - accuracy: 0.9956 - val_loss: 0.4658 - val_accuracy: 0.9077\n",
      "Epoch 18/50\n",
      "1601/1601 - 84s - loss: 0.0300 - accuracy: 0.9956 - val_loss: 0.5157 - val_accuracy: 0.8853\n",
      "Epoch 19/50\n",
      "1601/1601 - 91s - loss: 0.0494 - accuracy: 0.9900 - val_loss: 0.5272 - val_accuracy: 0.8878\n",
      "Epoch 20/50\n",
      "1601/1601 - 99s - loss: 0.0184 - accuracy: 0.9969 - val_loss: 0.4721 - val_accuracy: 0.8903\n",
      "Epoch 21/50\n",
      "1601/1601 - 103s - loss: 0.0185 - accuracy: 0.9950 - val_loss: 0.5332 - val_accuracy: 0.8803\n",
      "Epoch 22/50\n",
      "1601/1601 - 99s - loss: 0.0184 - accuracy: 0.9963 - val_loss: 0.4099 - val_accuracy: 0.8953\n",
      "Epoch 23/50\n",
      "1601/1601 - 92s - loss: 0.0282 - accuracy: 0.9919 - val_loss: 0.4800 - val_accuracy: 0.8828\n",
      "Epoch 24/50\n",
      "1601/1601 - 82s - loss: 0.0280 - accuracy: 0.9938 - val_loss: 0.5264 - val_accuracy: 0.8853\n",
      "Epoch 25/50\n",
      "1601/1601 - 84s - loss: 0.0169 - accuracy: 0.9956 - val_loss: 0.4644 - val_accuracy: 0.9102\n",
      "Epoch 26/50\n",
      "1601/1601 - 92s - loss: 0.0571 - accuracy: 0.9906 - val_loss: 0.4886 - val_accuracy: 0.9027\n",
      "Epoch 27/50\n",
      "1601/1601 - 90s - loss: 0.0936 - accuracy: 0.9788 - val_loss: 0.6149 - val_accuracy: 0.8678\n",
      "Epoch 28/50\n",
      "1601/1601 - 99s - loss: 0.0612 - accuracy: 0.9844 - val_loss: 0.3466 - val_accuracy: 0.9102\n",
      "Epoch 29/50\n",
      "1601/1601 - 107s - loss: 0.0229 - accuracy: 0.9963 - val_loss: 0.5372 - val_accuracy: 0.8778\n",
      "Epoch 30/50\n",
      "1601/1601 - 90s - loss: 0.0447 - accuracy: 0.9869 - val_loss: 0.5667 - val_accuracy: 0.8579\n",
      "Epoch 31/50\n",
      "1601/1601 - 91s - loss: 0.0346 - accuracy: 0.9938 - val_loss: 0.4580 - val_accuracy: 0.8928\n",
      "Epoch 32/50\n",
      "1601/1601 - 82s - loss: 0.0271 - accuracy: 0.9956 - val_loss: 0.4279 - val_accuracy: 0.8953\n",
      "Epoch 33/50\n",
      "1601/1601 - 93s - loss: 0.0159 - accuracy: 0.9969 - val_loss: 0.4412 - val_accuracy: 0.9077\n",
      "Epoch 34/50\n",
      "1601/1601 - 95s - loss: 0.0209 - accuracy: 0.9956 - val_loss: 0.4525 - val_accuracy: 0.8978\n",
      "Epoch 35/50\n",
      "1601/1601 - 90s - loss: 0.0145 - accuracy: 0.9975 - val_loss: 0.3302 - val_accuracy: 0.9227\n",
      "Epoch 36/50\n",
      "1601/1601 - 92s - loss: 0.0191 - accuracy: 0.9944 - val_loss: 0.4575 - val_accuracy: 0.9002\n",
      "Epoch 37/50\n",
      "1601/1601 - 90s - loss: 0.0186 - accuracy: 0.9969 - val_loss: 0.4323 - val_accuracy: 0.9102\n",
      "Epoch 38/50\n",
      "1601/1601 - 95s - loss: 0.0165 - accuracy: 0.9963 - val_loss: 0.4217 - val_accuracy: 0.9127\n",
      "Epoch 39/50\n",
      "1601/1601 - 85s - loss: 0.0086 - accuracy: 0.9975 - val_loss: 0.4248 - val_accuracy: 0.9102\n",
      "Epoch 40/50\n",
      "1601/1601 - 90s - loss: 0.0194 - accuracy: 0.9931 - val_loss: 0.7046 - val_accuracy: 0.8504\n",
      "Epoch 41/50\n",
      "1601/1601 - 97s - loss: 0.0655 - accuracy: 0.9850 - val_loss: 0.4256 - val_accuracy: 0.8953\n",
      "Epoch 42/50\n",
      "1601/1601 - 100s - loss: 0.0205 - accuracy: 0.9963 - val_loss: 0.4555 - val_accuracy: 0.9027\n",
      "Epoch 43/50\n",
      "1601/1601 - 97s - loss: 0.0114 - accuracy: 0.9975 - val_loss: 0.4256 - val_accuracy: 0.9077\n",
      "Epoch 44/50\n",
      "1601/1601 - 103s - loss: 0.0086 - accuracy: 0.9988 - val_loss: 0.4032 - val_accuracy: 0.9127\n",
      "Epoch 45/50\n",
      "1601/1601 - 86s - loss: 0.0073 - accuracy: 0.9988 - val_loss: 0.4159 - val_accuracy: 0.9152\n",
      "Epoch 46/50\n",
      "1601/1601 - 87s - loss: 0.0069 - accuracy: 0.9981 - val_loss: 0.4106 - val_accuracy: 0.9152\n",
      "Epoch 47/50\n",
      "1601/1601 - 86s - loss: 0.0066 - accuracy: 0.9988 - val_loss: 0.4145 - val_accuracy: 0.9152\n",
      "Epoch 48/50\n",
      "1601/1601 - 85s - loss: 0.0059 - accuracy: 0.9988 - val_loss: 0.4205 - val_accuracy: 0.9152\n",
      "Epoch 49/50\n",
      "1601/1601 - 88s - loss: 0.0048 - accuracy: 0.9981 - val_loss: 0.4225 - val_accuracy: 0.9177\n",
      "Epoch 50/50\n",
      "1601/1601 - 85s - loss: 0.0059 - accuracy: 0.9988 - val_loss: 0.4306 - val_accuracy: 0.9152\n"
     ]
    }
   ],
   "source": [
    "train_padded_array = np.asarray(train_padded)\n",
    "\n",
    "\n",
    "model.compile(loss='categorical_croentropy', optimizer='adam', metrics=['accuracy'])\n",
    "num_epochs = 50\n",
    "history = model.fit(train_padded, train_labels, epochs=num_epochs, validation_data=(validation_padded, validation_labels), verbose=2)"
   ]
  },
  {
   "cell_type": "code",
   "execution_count": 95,
   "metadata": {
    "scrolled": false
   },
   "outputs": [
    {
     "data": {
      "image/png": "[encoded data removed]",
      "text/plain": [
       "<Figure size 432x288 with 1 Axes>"
      ]
     },
     "metadata": {
      "needs_background": "light"
     },
     "output_type": "display_data"
    },
    {
     "data": {
      "image/png": "[encoded data removed]",
      "text/plain": [
       "<Figure size 432x288 with 1 Axes>"
      ]
     },
     "metadata": {
      "needs_background": "light"
     },
     "output_type": "display_data"
    }
   ],
   "source": [
    "def plot_graphs(history, string):\n",
    "    plt.plot(history.history[string])\n",
    "    plt.plot(history.history['val_'+string])\n",
    "    plt.xlabel(\"Epochs\")\n",
    "    plt.ylabel(string)\n",
    "    plt.legend([string, 'val_'+string])\n",
    "    plt.show()\n",
    "\n",
    "plot_graphs(history, \"accuracy\")\n",
    "plot_graphs(history, \"loss\")"
   ]
  },
  {
   "cell_type": "markdown",
   "metadata": {},
   "source": [
    "A big gap between val_loss and training loss, indicating overfit"
   ]
  },
  {
   "cell_type": "markdown",
   "metadata": {},
   "source": [
    "## Try #2 - Very simple single LSTM layer"
   ]
  },
  {
   "cell_type": "code",
   "execution_count": 96,
   "metadata": {},
   "outputs": [],
   "source": [
    "# vocab_size = 8000 # most common words\n",
    "# embedding_dim = 64\n",
    "# max_length = 600"
   ]
  },
  {
   "cell_type": "code",
   "execution_count": 13,
   "metadata": {},
   "outputs": [
    {
     "name": "stdout",
     "output_type": "stream",
     "text": [
      "Model: \"sequential\"\n",
      "_________________________________________________________________\n",
      "Layer (type)                 Output Shape              Param #   \n",
      "=================================================================\n",
      "embedding (Embedding)        (None, None, 64)          512000    \n",
      "_________________________________________________________________\n",
      "bidirectional (Bidirectional (None, 128)               66048     \n",
      "_________________________________________________________________\n",
      "dense (Dense)                (None, 64)                8256      \n",
      "_________________________________________________________________\n",
      "dense_1 (Dense)              (None, 4)                 260       \n",
      "=================================================================\n",
      "Total params: 586,564\n",
      "Trainable params: 586,564\n",
      "Non-trainable params: 0\n",
      "_________________________________________________________________\n"
     ]
    }
   ],
   "source": [
    "model = tf.keras.Sequential([\n",
    "    # Add an Embedding layer expecting input vocab of size 8000, and output embedding dimension of size 64 we set at the top\n",
    "    tf.keras.layers.Embedding(vocab_size, embedding_dim),\n",
    "    tf.keras.layers.Bidirectional(tf.keras.layers.LSTM(embedding_dim)),\n",
    "    # use ReLU in place of tanh function since they are very good alternatives of each other.\n",
    "    tf.keras.layers.Dense(embedding_dim, activation='relu'),\n",
    "    # Add a Dense layer with 4 nodes (1 for each class) and softmax activation.\n",
    "    # When we have multiple outputs, softmax convert outputs layers into a probability distribution.\n",
    "    tf.keras.layers.Dense(4, activation='softmax')\n",
    "])\n",
    "model.summary()"
   ]
  },
  {
   "cell_type": "code",
   "execution_count": 14,
   "metadata": {
    "scrolled": true
   },
   "outputs": [
    {
     "name": "stdout",
     "output_type": "stream",
     "text": [
      "Train on 1601 samples, validate on 401 samples\n",
      "Epoch 1/5\n",
      "1601/1601 - 49s - loss: 1.2428 - accuracy: 0.4054 - val_loss: 1.0550 - val_accuracy: 0.5187\n",
      "Epoch 2/5\n",
      "1601/1601 - 50s - loss: 0.5575 - accuracy: 0.8207 - val_loss: 0.2834 - val_accuracy: 0.9252\n",
      "Epoch 3/5\n",
      "1601/1601 - 44s - loss: 0.2957 - accuracy: 0.9132 - val_loss: 0.2323 - val_accuracy: 0.9302\n",
      "Epoch 4/5\n",
      "1601/1601 - 44s - loss: 0.0615 - accuracy: 0.9869 - val_loss: 0.1483 - val_accuracy: 0.9526\n",
      "Epoch 5/5\n",
      "1601/1601 - 44s - loss: 0.0897 - accuracy: 0.9788 - val_loss: 0.2176 - val_accuracy: 0.9302\n"
     ]
    }
   ],
   "source": [
    "train_padded_array = np.asarray(train_padded)\n",
    "\n",
    "\n",
    "model.compile(loss='categorical_crossentropy', optimizer='adam', metrics=['accuracy'])\n",
    "num_epochs = 5\n",
    "history = model.fit(train_padded, train_labels, epochs=num_epochs, validation_data=(validation_padded, validation_labels), verbose=2)"
   ]
  },
  {
   "cell_type": "code",
   "execution_count": 114,
   "metadata": {
    "scrolled": true
   },
   "outputs": [
    {
     "data": {
      "image/png": "[encoded data removed]",
      "text/plain": [
       "<Figure size 432x288 with 1 Axes>"
      ]
     },
     "metadata": {
      "needs_background": "light"
     },
     "output_type": "display_data"
    },
    {
     "data": {
      "image/png": "[encoded data removed]",
      "text/plain": [
       "<Figure size 432x288 with 1 Axes>"
      ]
     },
     "metadata": {
      "needs_background": "light"
     },
     "output_type": "display_data"
    }
   ],
   "source": [
    "def plot_graphs(history, string):\n",
    "    plt.plot(history.history[string])\n",
    "    plt.plot(history.history['val_'+string])\n",
    "    plt.xlabel(\"Epochs\")\n",
    "    plt.ylabel(string)\n",
    "    plt.legend([string, 'val_'+string])\n",
    "    plt.show()\n",
    "\n",
    "plot_graphs(history, \"accuracy\")\n",
    "plot_graphs(history, \"loss\")"
   ]
  },
  {
   "cell_type": "markdown",
   "metadata": {},
   "source": [
    "## Save model"
   ]
  },
  {
   "cell_type": "code",
   "execution_count": 16,
   "metadata": {},
   "outputs": [],
   "source": [
    "model.save('model/model1.h5')"
   ]
  },
  {
   "cell_type": "code",
   "execution_count": 13,
   "metadata": {},
   "outputs": [],
   "source": [
    "import pickle\n",
    "\n",
    "# saving\n",
    "with open('model/tokenizer.pickle', 'wb') as handle:\n",
    "    pickle.dump(tokenizer, handle, protocol=pickle.HIGHEST_PROTOCOL)\n",
    "\n",
    "# loading\n",
    "with open('model/tokenizer.pickle', 'rb') as handle:\n",
    "    tokenizer = pickle.load(handle)"
   ]
  },
  {
   "cell_type": "markdown",
   "metadata": {},
   "source": [
    "## CV inlezen"
   ]
  },
  {
   "cell_type": "code",
   "execution_count": 15,
   "metadata": {},
   "outputs": [],
   "source": [
    "import docx\n",
    "\n",
    "doc =  docx.Document('data/CV_robinfaber.docx')"
   ]
  },
  {
   "cell_type": "code",
   "execution_count": 16,
   "metadata": {},
   "outputs": [],
   "source": [
    "def getText(filename):\n",
    "    doc = docx.Document(filename)\n",
    "    fullText = []\n",
    "    for para in doc.paragraphs:\n",
    "        fullText.append(para.text.replace('\\t', ' '))\n",
    "    return ' '.join(fullText)"
   ]
  },
  {
   "cell_type": "code",
   "execution_count": 17,
   "metadata": {},
   "outputs": [],
   "source": [
    "text = getText('data/CV_robinfaber.docx')"
   ]
  },
  {
   "cell_type": "code",
   "execution_count": 18,
   "metadata": {},
   "outputs": [
    {
     "data": {
      "text/plain": [
       "str"
      ]
     },
     "execution_count": 18,
     "metadata": {},
     "output_type": "execute_result"
    }
   ],
   "source": [
    "type(text)"
   ]
  },
  {
   "cell_type": "code",
   "execution_count": 19,
   "metadata": {},
   "outputs": [],
   "source": [
    "for i in text:\n",
    "    job = i\n",
    "    for word in STOPWORDS:\n",
    "        token = ' ' + word + ' '\n",
    "        job = job.replace(token, ' ')\n",
    "        job = job.replace(' ', ' ')\n",
    "    jobs_clean.append(job)"
   ]
  },
  {
   "cell_type": "code",
   "execution_count": 65,
   "metadata": {},
   "outputs": [
    {
     "ename": "IndexError",
     "evalue": "list index out of range",
     "output_type": "error",
     "traceback": [
      "\u001b[0;31m---------------------------------------------------------------------------\u001b[0m",
      "\u001b[0;31mIndexError\u001b[0m                                Traceback (most recent call last)",
      "\u001b[0;32m<ipython-input-65-e44a3e93ffe5>\u001b[0m in \u001b[0;36m<module>\u001b[0;34m\u001b[0m\n\u001b[1;32m      3\u001b[0m \u001b[0mpred\u001b[0m \u001b[0;34m=\u001b[0m \u001b[0mmodel\u001b[0m\u001b[0;34m.\u001b[0m\u001b[0mpredict\u001b[0m\u001b[0;34m(\u001b[0m\u001b[0mpadded\u001b[0m\u001b[0;34m)\u001b[0m\u001b[0;34m\u001b[0m\u001b[0;34m\u001b[0m\u001b[0m\n\u001b[1;32m      4\u001b[0m \u001b[0mlabels\u001b[0m \u001b[0;34m=\u001b[0m \u001b[0;34m[\u001b[0m\u001b[0;34m'data scientist'\u001b[0m\u001b[0;34m,\u001b[0m \u001b[0;34m'sales manager'\u001b[0m\u001b[0;34m,\u001b[0m \u001b[0;34m'front-office manager'\u001b[0m\u001b[0;34m,\u001b[0m \u001b[0;34m'front-end developer'\u001b[0m\u001b[0;34m]\u001b[0m\u001b[0;34m\u001b[0m\u001b[0;34m\u001b[0m\u001b[0m\n\u001b[0;32m----> 5\u001b[0;31m \u001b[0mprint\u001b[0m\u001b[0;34m(\u001b[0m\u001b[0mpred\u001b[0m\u001b[0;34m,\u001b[0m \u001b[0mlabels\u001b[0m\u001b[0;34m[\u001b[0m\u001b[0mnp\u001b[0m\u001b[0;34m.\u001b[0m\u001b[0margmax\u001b[0m\u001b[0;34m(\u001b[0m\u001b[0mpred\u001b[0m\u001b[0;34m)\u001b[0m\u001b[0;34m]\u001b[0m\u001b[0;34m)\u001b[0m\u001b[0;34m\u001b[0m\u001b[0;34m\u001b[0m\u001b[0m\n\u001b[0m",
      "\u001b[0;31mIndexError\u001b[0m: list index out of range"
     ]
    }
   ],
   "source": [
    "seq = tokenizer.texts_to_sequences(text)\n",
    "padded = pad_sequences(seq, maxlen=max_length)\n",
    "pred = model.predict(padded)\n",
    "labels = ['data scientist', 'sales manager', 'front-office manager', 'front-end developer']\n",
    "print(pred, labels[np.argmax(pred)])"
   ]
  },
  {
   "cell_type": "code",
   "execution_count": 76,
   "metadata": {},
   "outputs": [
    {
     "data": {
      "text/plain": [
       "array([[   0,    0,    0, ...,    0,    0,  266],\n",
       "       [   0,    0,    0, ...,    0,    0, 1661],\n",
       "       [   0,    0,    0, ...,    0,    0,  761],\n",
       "       ...,\n",
       "       [   0,    0,    0, ...,    0,    0, 2819],\n",
       "       [   0,    0,    0, ...,    0,    0,  320],\n",
       "       [   0,    0,    0, ...,    0,    0,    0]], dtype=int32)"
      ]
     },
     "execution_count": 76,
     "metadata": {},
     "output_type": "execute_result"
    }
   ],
   "source": [
    "padded"
   ]
  },
  {
   "cell_type": "code",
   "execution_count": 24,
   "metadata": {},
   "outputs": [
    {
     "ename": "NameError",
     "evalue": "name 'pred' is not defined",
     "output_type": "error",
     "traceback": [
      "\u001b[0;31m---------------------------------------------------------------------------\u001b[0m",
      "\u001b[0;31mNameError\u001b[0m                                 Traceback (most recent call last)",
      "\u001b[0;32m<ipython-input-24-07dd70a9c695>\u001b[0m in \u001b[0;36m<module>\u001b[0;34m\u001b[0m\n\u001b[0;32m----> 1\u001b[0;31m \u001b[0mnp\u001b[0m\u001b[0;34m.\u001b[0m\u001b[0margmax\u001b[0m\u001b[0;34m(\u001b[0m\u001b[0mpred\u001b[0m\u001b[0;34m)\u001b[0m\u001b[0;34m\u001b[0m\u001b[0;34m\u001b[0m\u001b[0m\n\u001b[0m",
      "\u001b[0;31mNameError\u001b[0m: name 'pred' is not defined"
     ]
    }
   ],
   "source": [
    "np.argmax(pred)"
   ]
  },
  {
   "cell_type": "code",
   "execution_count": 25,
   "metadata": {},
   "outputs": [
    {
     "ename": "NameError",
     "evalue": "name 'seq' is not defined",
     "output_type": "error",
     "traceback": [
      "\u001b[0;31m---------------------------------------------------------------------------\u001b[0m",
      "\u001b[0;31mNameError\u001b[0m                                 Traceback (most recent call last)",
      "\u001b[0;32m<ipython-input-25-e916cee2b9d0>\u001b[0m in \u001b[0;36m<module>\u001b[0;34m\u001b[0m\n\u001b[0;32m----> 1\u001b[0;31m \u001b[0mseq\u001b[0m\u001b[0;34m\u001b[0m\u001b[0;34m\u001b[0m\u001b[0m\n\u001b[0m",
      "\u001b[0;31mNameError\u001b[0m: name 'seq' is not defined"
     ]
    }
   ],
   "source": [
    "seq"
   ]
  },
  {
   "cell_type": "code",
   "execution_count": null,
   "metadata": {},
   "outputs": [],
   "source": []
  }
 ],
 "metadata": {
  "kernelspec": {
   "display_name": "Python 3",
   "language": "python",
   "name": "python3"
  },
  "language_info": {
   "codemirror_mode": {
    "name": "ipython",
    "version": 3
   },
   "file_extension": ".py",
   "mimetype": "text/x-python",
   "name": "python",
   "nbconvert_exporter": "python",
   "pygments_lexer": "ipython3",
   "version": "3.7.6-final"
  }
 },
 "nbformat": 4,
 "nbformat_minor": 4
}