{
 "cells": [
  {
   "cell_type": "markdown",
   "metadata": {},
   "source": [
    "# Prediction"
   ]
  },
  {
   "cell_type": "markdown",
   "metadata": {},
   "source": [
    "With this notebook I try to load the model and tokenizer, pre-process the input for prediction, and finally make the prediction."
   ]
  },
  {
   "cell_type": "markdown",
   "metadata": {},
   "source": [
    "### Load model and tokenizer"
   ]
  },
  {
   "cell_type": "code",
   "execution_count": 5,
   "metadata": {},
   "outputs": [],
   "source": [
    "import os\n",
    "import tensorflow as tf\n",
    "from tensorflow import keras"
   ]
  },
  {
   "cell_type": "code",
   "execution_count": 6,
   "metadata": {},
   "outputs": [
    {
     "name": "stdout",
     "output_type": "stream",
     "text": [
      "Model: \"sequential\"\n",
      "_________________________________________________________________\n",
      "Layer (type)                 Output Shape              Param #   \n",
      "=================================================================\n",
      "embedding (Embedding)        (None, None, 64)          512000    \n",
      "_________________________________________________________________\n",
      "bidirectional (Bidirectional (None, 128)               66048     \n",
      "_________________________________________________________________\n",
      "dense (Dense)                (None, 64)                8256      \n",
      "_________________________________________________________________\n",
      "dense_1 (Dense)              (None, 4)                 260       \n",
      "=================================================================\n",
      "Total params: 586,564\n",
      "Trainable params: 586,564\n",
      "Non-trainable params: 0\n",
      "_________________________________________________________________\n"
     ]
    }
   ],
   "source": [
    "# Recreate the exact same model, including its weights and the optimizer\n",
    "new_model = tf.keras.models.load_model('model/model1.h5')\n",
    "\n",
    "# Show the model architecture\n",
    "new_model.summary()"
   ]
  },
  {
   "cell_type": "code",
   "execution_count": 68,
   "metadata": {},
   "outputs": [
    {
     "data": {
      "text/plain": [
       "{'<OOV>': 1,\n",
       " 'experience': 2,\n",
       " 'data': 3,\n",
       " 'work': 4,\n",
       " 'sales': 5,\n",
       " 'team': 6,\n",
       " 'skills': 7,\n",
       " 'business': 8,\n",
       " 'ability': 9,\n",
       " 'the': 10}"
      ]
     },
     "execution_count": 68,
     "metadata": {},
     "output_type": "execute_result"
    }
   ],
   "source": [
    "import pickle\n",
    "\n",
    "# loading tokenizer\n",
    "with open('model/tokenizer.pickle', 'rb') as handle:\n",
    "    tokenizer = pickle.load(handle)\n",
    "    \n",
    "    \n",
    "word_index = tokenizer.word_index\n",
    "dict(list(word_index.items())[0:10])"
   ]
  },
  {
   "cell_type": "markdown",
   "metadata": {},
   "source": [
    "### Pre-process input (cv)"
   ]
  },
  {
   "cell_type": "code",
   "execution_count": 98,
   "metadata": {},
   "outputs": [],
   "source": [
    "import docx\n",
    "\n",
    "doc =  docx.Document('data/monster-cv-template-sales-manager.docx')"
   ]
  },
  {
   "cell_type": "code",
   "execution_count": 99,
   "metadata": {},
   "outputs": [],
   "source": [
    "def getText(filename):\n",
    "    doc = docx.Document(filename)\n",
    "    fullText = []\n",
    "    for para in doc.paragraphs:\n",
    "        fullText.append(para.text.replace('\\t', ' '))\n",
    "    return ' '.join(fullText), doc"
   ]
  },
  {
   "cell_type": "code",
   "execution_count": 100,
   "metadata": {},
   "outputs": [],
   "source": [
    "text, doc = getText('data/monster-cv-template-sales-manager.docx')"
   ]
  },
  {
   "cell_type": "code",
   "execution_count": 101,
   "metadata": {},
   "outputs": [
    {
     "data": {
      "text/plain": [
       "<docx.document.Document at 0x7fadef0cd550>"
      ]
     },
     "execution_count": 101,
     "metadata": {},
     "output_type": "execute_result"
    }
   ],
   "source": [
    "doc"
   ]
  },
  {
   "cell_type": "code",
   "execution_count": 94,
   "metadata": {},
   "outputs": [
    {
     "name": "stderr",
     "output_type": "stream",
     "text": [
      "[nltk_data] Downloading package stopwords to /home/robin/nltk_data...\n",
      "[nltk_data]   Package stopwords is already up-to-date!\n"
     ]
    }
   ],
   "source": [
    "import nltk\n",
    "from nltk.corpus import stopwords\n",
    "nltk.download('stopwords')\n",
    "\n",
    "STOPWORDS = set(stopwords.words('english'))\n",
    "\n",
    "job_list = []\n",
    "\n",
    "for word in STOPWORDS:\n",
    "    token = ' ' + word + ' '\n",
    "    job = text.replace(token, ' ')\n",
    "    job = job.replace(' ', ' ')\n",
    "\n",
    "job_list.append(job)"
   ]
  },
  {
   "cell_type": "code",
   "execution_count": 95,
   "metadata": {},
   "outputs": [],
   "source": [
    "from tensorflow.keras.preprocessing.text import Tokenizer\n",
    "from tensorflow.keras.preprocessing.sequence import pad_sequences\n",
    "\n",
    "import numpy as np\n",
    "\n",
    "max_length = 1000\n",
    "trunc_type = 'post'\n",
    "padding_type = 'post'\n",
    "\n",
    "seq = tokenizer.texts_to_sequences(job_list)\n",
    "padded = pad_sequences(seq, maxlen=max_length, padding=padding_type, truncating=trunc_type)\n",
    "pred = new_model.predict(padded)\n",
    "labels = ['data scientist', 'sales manager', 'front-office manager', 'front-end developer']"
   ]
  },
  {
   "cell_type": "code",
   "execution_count": 96,
   "metadata": {
    "scrolled": true
   },
   "outputs": [
    {
     "name": "stdout",
     "output_type": "stream",
     "text": [
      "[[0.05724354 0.35578763 0.28760016 0.2993687 ]] sales manager\n"
     ]
    }
   ],
   "source": [
    "print(pred, labels[np.argmax(pred)])"
   ]
  },
  {
   "cell_type": "code",
   "execution_count": 102,
   "metadata": {},
   "outputs": [
    {
     "data": {
      "text/plain": [
       "'sales manager'"
      ]
     },
     "execution_count": 102,
     "metadata": {},
     "output_type": "execute_result"
    }
   ],
   "source": [
    "labels[np.argmax(pred)]"
   ]
  },
  {
   "cell_type": "code",
   "execution_count": 97,
   "metadata": {},
   "outputs": [
    {
     "name": "stdout",
     "output_type": "stream",
     "text": [
      "<OOV> wood address flat 0 any road any town <OOV> email telephone <OOV> 000 000 000 personal statement a hard working knowledgeable and target oriented sales manager an extensive successful sales record builds and maintains a loyal client base through strong relationship building skills and excels at devising strategies for increased sales skilled in bringing out the best in staff able to manage effectively and recruit talent strong <OOV> and time management ability skilled in planning scheduling and meeting deadlines driven to succeed a valuable addition to a forward thinking company strong opportunities for progression key achievements company achieved area sales of <OOV> <OOV> in one year company <OOV> item sales up from 400 to 1000 a week company <OOV> the rising star award date company achieved 1 adviser in eight out of 12 months and <OOV> ranked in the in top four every month company achieved record breaking sales of <OOV> consistently brought in half of the overall monthly sales target company <OOV> top seller <OOV> for two consecutive months securing <OOV> and <OOV> of monthly targets employment history 12 2014 – present sales manager company identifies and generates leads through networking cold calling and marketing converting <OOV> key accounts <OOV> product features based on customers' needs and up sell cross sell it products services manages the sales cycle from inception to execution manages high profile corporate accounts full ownership of p l to achieve revenue growth and gross profit stream coordinates and leads service review meetings to ensure customer satisfaction and <OOV> are being met conducts bid analysis and deal execution ensuring to buy sell and <OOV> <OOV> contracts at best prices writes formal responses to <OOV> <OOV> uses crm and erp systems to record data key role in developing the team conducting appraisals one to ones training and mentoring 10 2013 – 12 2014 marketing sales executive account manager company built sales roadmap in line sales targets across the portfolio of b2b brands identified and reviewed clients’ marketing requirements in order to create tailored solutions <OOV> and presented presentations proposals to clients based on their marketing objectives provided excellent agency servicing consisting of regular meetings monthly presentations agreed response times on <OOV> and in depth post campaign reporting expanded client base by setting up meetings and <OOV> marketing decision makers and agencies achieved monthly quarterly revenue targets provided accurate revenue forecasts to sales manager on a weekly basis generated and targeted leads in specialist market industries used and monitored salesforce accurately inputting data and ensuring applications <OOV> up to date executing stock and warehouse check processes management reporting to credit committees and <OOV> commodities <OOV> <OOV> – 10 2013 sales executive company sourced leads and cold called to promote the products and regularly called <OOV> both new and existing customers to discuss requirements negotiate terms and <OOV> business opportunities built and retained long term <OOV> relationships customers acted as key point of contact for the company <OOV> a high standard of customer service by discussing technical problems or repairs required and recommending suitable products responsible for negotiating contracts from year to year i e price increases and stock agreements education 10 <OOV> – <OOV> <OOV> ba business management university city country key modules business skills operations management economics business and sustainability financial accounting marketing principles <OOV> <OOV> and analysis business ethics business decision making 10 <OOV> – <OOV> <OOV> a levels <OOV> c business studies a further <OOV> b school city country ihg sales approach and coaching <OOV> level 3 business administration and customer care <OOV> level 1 leadership fundamentals crucial conversations project delivery strength based leadership presentation skills focus of degree eg this included modules in social media management and public speaking software microsoft office powerpoint word excel and outlook crm and erp systems personal interests <OOV> mountain climbing <OOV> and mountain <OOV> references on request ? ? ? ? ? ? ? ? ? ? ? ? ? ? ? ? ? ? ? ? ? ? ? ? ? ? ? ? ? ? ? ? ? ? ? ? ? ? ? ? ? ? ? ? ? ? ? ? ? ? ? ? ? ? ? ? ? ? ? ? ? ? ? ? ? ? ? ? ? ? ? ? ? ? ? ? ? ? ? ? ? ? ? ? ? ? ? ? ? ? ? ? ? ? ? ? ? ? ? ? ? ? ? ? ? ? ? ? ? ? ? ? ? ? ? ? ? ? ? ? ? ? ? ? ? ? ? ? ? ? ? ? ? ? ? ? ? ? ? ? ? ? ? ? ? ? ? ? ? ? ? ? ? ? ? ? ? ? ? ? ? ? ? ? ? ? ? ? ? ? ? ? ? ? ? ? ? ? ? ? ? ? ? ? ? ? ? ? ? ? ? ? ? ? ? ? ? ? ? ? ? ? ? ? ? ? ? ? ? ? ? ? ? ? ? ? ? ? ? ? ? ? ? ? ? ? ? ? ? ? ? ? ? ? ? ? ? ? ? ? ? ? ? ? ? ? ? ? ? ? ? ? ? ? ? ? ? ? ? ? ? ? ? ? ? ? ? ? ? ? ? ? ? ? ? ? ? ? ? ? ? ? ? ? ? ? ? ? ? ? ? ? ? ? ? ? ? ? ? ? ? ? ? ? ? ? ? ? ? ? ? ? ? ? ? ? ? ? ? ? ? ? ? ? ? ? ? ? ? ? ? ? ? ? ? ? ? ? ? ? ? ? ? ? ? ? ? ? ? ? ? ? ? ? ? ? ? ? ? ?\n",
      "---\n",
      "Jennifer Wood \n",
      "\n",
      "Address: Flat 0, Any Road, Any Town, Postcode\n",
      "Email:  | Telephone: +44 000 000 000  PERSONAL STATEMENT  A hard-working, knowledgeable and target-oriented Sales Manager an extensive successful sales record. Builds and maintains a loyal client base through strong relationship-building skills, and excels at devising strategies for increased sales. Skilled in bringing out the best in staff; able to manage effectively and recruit talent. Strong organisational and time management ability; skilled in planning, scheduling and meeting deadlines. Driven to succeed; a valuable addition to a forward-thinking company strong opportunities for progression. \n",
      "KEY ACHIEVEMENTS Company: Achieved area sales of £2.2m in one year Company: Drove [item] sales up from 400 to 1000 a week  Company: Won the Rising Star Award (date) Company: Achieved #1 adviser in eight out of 12 months, and was ranked in the in top four every month Company: Achieved record-breaking sales of £36k. Consistently brought in half of the overall monthly sales target  Company: Won Top Seller Prize for two consecutive months, securing 155% and 203% of monthly targets  EMPLOYMENT HISTORY 12/2014 – Present  Sales Manager, Company Identifies and generates leads through networking, cold-calling and marketing, converting into key accounts  Emphasises product features based on customers' needs and up-sell/cross-sell IT products/services  Manages the sales cycle from inception to execution  Manages high-profile corporate accounts Full ownership of P&L to achieve revenue growth and gross profit stream  Coordinates and leads service review meetings to ensure customer satisfaction and SLAs are being met  Conducts bid analysis and deal execution, ensuring to buy, sell and renegotiate/renew contracts at best prices  Writes formal responses to RFQ/RFPs  Uses CRM and ERP systems to record data Key role in developing the team: conducting appraisals, one-to-ones, training and mentoring  10/2013 – 12/2014 Marketing Sales Executive/Account Manager, Company Built sales roadmap in line sales targets across the portfolio of B2B brands Identified and reviewed clients’ marketing requirements in order to create tailored solutions  Constructed and presented presentations/proposals to clients based on their marketing objectives Provided excellent agency servicing consisting of regular meetings, monthly presentations, agreed response times on RFPs and in-depth post-campaign reporting  Expanded client base by setting up meetings and telephoning marketing decision-makers and agencies Achieved monthly/quarterly revenue targets Provided accurate revenue forecasts to Sales Manager on a weekly basis Generated and targeted leads in specialist market/industries Used and monitored Salesforce, accurately inputting data and ensuring applications were up to date executing stock and warehouse check processes, management reporting to Credit Committees and MT Commodities  06/2012 – 10/2013 Sales Executive, Company Sourced leads and cold-called to promote the products, and regularly called/visited both new and existing customers to discuss requirements, negotiate terms and maximise business opportunities  Built and retained long-term friendships/relationships customers  Acted as key point of contact for the company, ensured a high standard of customer service by discussing technical problems or repairs required and recommending suitable products Responsible for negotiating contracts from year to year (i.e. price increases and stock agreements)  EDUCATION 10/2009 – 08/2012 BA: Business Management University, City, Country Key Modules:  Business Skills; Operations Management; Economics, Business and Sustainability; Financial Accounting; Marketing Principles; Organisational Behaviour and Analysis; Business Ethics; Business Decision-Making  10/2007 – 08/2009 A Levels: Maths (C) Business Studies (A) Further Maths (B)  School, City, Country  IHG: Sales Approach and Coaching  NVQ Level 3: Business Administration and Customer Care ALDP Level 1: Leadership Fundamentals, Crucial Conversations, Project Delivery, Strength Based Leadership, Presentation skills Focus of degree, eg this included modules in social media management and public speaking  SOFTWARE Microsoft Office (PowerPoint, Word, Excel and Outlook), CRM and ERP systems   PERSONAL INTERESTS Parasailing, mountain climbing, travelling and mountain biking  REFERENCES ON REQUEST \n"
     ]
    }
   ],
   "source": [
    "reverse_word_index = dict([(value, key) for (key, value) in word_index.items()])\n",
    "\n",
    "def decode_job(text):\n",
    "    return ' '.join([reverse_word_index.get(i, '?') for i in text])\n",
    "print(decode_job(padded[0]))\n",
    "print('---')\n",
    "print(job_list[0])"
   ]
  },
  {
   "cell_type": "code",
   "execution_count": null,
   "metadata": {},
   "outputs": [],
   "source": []
  }
 ],
 "metadata": {
  "kernelspec": {
   "display_name": "Python 3",
   "language": "python",
   "name": "python3"
  },
  "language_info": {
   "codemirror_mode": {
    "name": "ipython",
    "version": 3
   },
   "file_extension": ".py",
   "mimetype": "text/x-python",
   "name": "python",
   "nbconvert_exporter": "python",
   "pygments_lexer": "ipython3",
   "version": "3.7.6"
  }
 },
 "nbformat": 4,
 "nbformat_minor": 4
}
